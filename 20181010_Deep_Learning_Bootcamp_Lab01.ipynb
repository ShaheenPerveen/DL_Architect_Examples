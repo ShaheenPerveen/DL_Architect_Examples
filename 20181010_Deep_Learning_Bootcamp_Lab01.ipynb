{
  "nbformat": 4,
  "nbformat_minor": 0,
  "metadata": {
    "colab": {
      "name": "DL_Architect_Day01.ipynb",
      "version": "0.3.2",
      "provenance": [],
      "collapsed_sections": []
    },
    "kernelspec": {
      "name": "python3",
      "display_name": "Python 3"
    },
    "accelerator": "GPU"
  },
  "cells": [
    {
      "metadata": {
        "id": "4j9_7AotGndr",
        "colab_type": "code",
        "colab": {
          "base_uri": "https://localhost:8080/",
          "height": 87
        },
        "outputId": "b36b9830-6077-400a-c2ab-3c6d1b0212eb"
      },
      "cell_type": "code",
      "source": [
        "# loading all libraries\n",
        "import pandas as pd\n",
        "import numpy as np\n",
        "import matplotlib.pyplot as plt\n",
        "import seaborn as sns\n",
        "from sklearn import preprocessing, metrics, cross_validation\n",
        "from sklearn.model_selection import train_test_split\n",
        "from keras.constraints import maxnorm\n",
        "from keras import optimizers\n",
        "from keras import regularizers\n",
        "from keras.constraints import maxnorm\n",
        "from keras.layers import Dropout, BatchNormalization\n",
        "from pylab import rcParams\n",
        "from keras.models import Sequential\n",
        "from keras.layers import Dense, Dropout\n"
      ],
      "execution_count": 1,
      "outputs": [
        {
          "output_type": "stream",
          "text": [
            "/usr/local/lib/python3.6/dist-packages/sklearn/cross_validation.py:41: DeprecationWarning: This module was deprecated in version 0.18 in favor of the model_selection module into which all the refactored classes and functions are moved. Also note that the interface of the new CV iterators are different from that of this module. This module will be removed in 0.20.\n",
            "  \"This module will be removed in 0.20.\", DeprecationWarning)\n",
            "Using TensorFlow backend.\n"
          ],
          "name": "stderr"
        }
      ]
    },
    {
      "metadata": {
        "id": "D6uFWdjfryIX",
        "colab_type": "code",
        "colab": {}
      },
      "cell_type": "code",
      "source": [
        "from google.colab import drive"
      ],
      "execution_count": 0,
      "outputs": []
    },
    {
      "metadata": {
        "id": "0G2vb0x8ryBi",
        "colab_type": "code",
        "colab": {
          "base_uri": "https://localhost:8080/",
          "height": 121
        },
        "outputId": "dea25069-5d5b-43ba-af37-96685291bd13"
      },
      "cell_type": "code",
      "source": [
        "drive.mount('/content/drive')"
      ],
      "execution_count": 3,
      "outputs": [
        {
          "output_type": "stream",
          "text": [
            "Go to this URL in a browser: https://accounts.google.com/o/oauth2/auth?client_id=947318989803-6bn6qk8qdgf4n4g3pfee6491hc0brc4i.apps.googleusercontent.com&redirect_uri=urn%3Aietf%3Awg%3Aoauth%3A2.0%3Aoob&scope=email%20https%3A%2F%2Fwww.googleapis.com%2Fauth%2Fdocs.test%20https%3A%2F%2Fwww.googleapis.com%2Fauth%2Fdrive%20https%3A%2F%2Fwww.googleapis.com%2Fauth%2Fdrive.photos.readonly%20https%3A%2F%2Fwww.googleapis.com%2Fauth%2Fpeopleapi.readonly&response_type=code\n",
            "\n",
            "Enter your authorization code:\n",
            "··········\n",
            "Mounted at /content/drive\n"
          ],
          "name": "stdout"
        }
      ]
    },
    {
      "metadata": {
        "id": "Y1Br4RxfL6oj",
        "colab_type": "code",
        "colab": {
          "base_uri": "https://localhost:8080/",
          "height": 244
        },
        "outputId": "765d0c95-3754-4b18-e46e-0bfb16b48597"
      },
      "cell_type": "code",
      "source": [
        "BackOrders = pd.read_csv(\"/content/drive/My Drive/Colab_Folder/BackOrders.csv\", na_values=[\"?\",\",\"])\n",
        "BackOrders.head(5)"
      ],
      "execution_count": 4,
      "outputs": [
        {
          "output_type": "execute_result",
          "data": {
            "text/html": [
              "<div>\n",
              "<style scoped>\n",
              "    .dataframe tbody tr th:only-of-type {\n",
              "        vertical-align: middle;\n",
              "    }\n",
              "\n",
              "    .dataframe tbody tr th {\n",
              "        vertical-align: top;\n",
              "    }\n",
              "\n",
              "    .dataframe thead th {\n",
              "        text-align: right;\n",
              "    }\n",
              "</style>\n",
              "<table border=\"1\" class=\"dataframe\">\n",
              "  <thead>\n",
              "    <tr style=\"text-align: right;\">\n",
              "      <th></th>\n",
              "      <th>sku</th>\n",
              "      <th>national_inv</th>\n",
              "      <th>lead_time</th>\n",
              "      <th>in_transit_qty</th>\n",
              "      <th>forecast_3_month</th>\n",
              "      <th>forecast_6_month</th>\n",
              "      <th>forecast_9_month</th>\n",
              "      <th>sales_1_month</th>\n",
              "      <th>sales_3_month</th>\n",
              "      <th>sales_6_month</th>\n",
              "      <th>...</th>\n",
              "      <th>pieces_past_due</th>\n",
              "      <th>perf_6_month_avg</th>\n",
              "      <th>perf_12_month_avg</th>\n",
              "      <th>local_bo_qty</th>\n",
              "      <th>deck_risk</th>\n",
              "      <th>oe_constraint</th>\n",
              "      <th>ppap_risk</th>\n",
              "      <th>stop_auto_buy</th>\n",
              "      <th>rev_stop</th>\n",
              "      <th>went_on_backorder</th>\n",
              "    </tr>\n",
              "  </thead>\n",
              "  <tbody>\n",
              "    <tr>\n",
              "      <th>0</th>\n",
              "      <td>1888279</td>\n",
              "      <td>117</td>\n",
              "      <td>NaN</td>\n",
              "      <td>0</td>\n",
              "      <td>0</td>\n",
              "      <td>0</td>\n",
              "      <td>0</td>\n",
              "      <td>0</td>\n",
              "      <td>0</td>\n",
              "      <td>15</td>\n",
              "      <td>...</td>\n",
              "      <td>0</td>\n",
              "      <td>-99.00</td>\n",
              "      <td>-99.00</td>\n",
              "      <td>0</td>\n",
              "      <td>No</td>\n",
              "      <td>No</td>\n",
              "      <td>Yes</td>\n",
              "      <td>Yes</td>\n",
              "      <td>No</td>\n",
              "      <td>No</td>\n",
              "    </tr>\n",
              "    <tr>\n",
              "      <th>1</th>\n",
              "      <td>1870557</td>\n",
              "      <td>7</td>\n",
              "      <td>2.0</td>\n",
              "      <td>0</td>\n",
              "      <td>0</td>\n",
              "      <td>0</td>\n",
              "      <td>0</td>\n",
              "      <td>0</td>\n",
              "      <td>0</td>\n",
              "      <td>0</td>\n",
              "      <td>...</td>\n",
              "      <td>0</td>\n",
              "      <td>0.50</td>\n",
              "      <td>0.28</td>\n",
              "      <td>0</td>\n",
              "      <td>Yes</td>\n",
              "      <td>No</td>\n",
              "      <td>No</td>\n",
              "      <td>Yes</td>\n",
              "      <td>No</td>\n",
              "      <td>No</td>\n",
              "    </tr>\n",
              "    <tr>\n",
              "      <th>2</th>\n",
              "      <td>1475481</td>\n",
              "      <td>258</td>\n",
              "      <td>15.0</td>\n",
              "      <td>10</td>\n",
              "      <td>10</td>\n",
              "      <td>77</td>\n",
              "      <td>184</td>\n",
              "      <td>46</td>\n",
              "      <td>132</td>\n",
              "      <td>256</td>\n",
              "      <td>...</td>\n",
              "      <td>0</td>\n",
              "      <td>0.54</td>\n",
              "      <td>0.70</td>\n",
              "      <td>0</td>\n",
              "      <td>No</td>\n",
              "      <td>No</td>\n",
              "      <td>No</td>\n",
              "      <td>Yes</td>\n",
              "      <td>No</td>\n",
              "      <td>No</td>\n",
              "    </tr>\n",
              "    <tr>\n",
              "      <th>3</th>\n",
              "      <td>1758220</td>\n",
              "      <td>46</td>\n",
              "      <td>2.0</td>\n",
              "      <td>0</td>\n",
              "      <td>0</td>\n",
              "      <td>0</td>\n",
              "      <td>0</td>\n",
              "      <td>1</td>\n",
              "      <td>2</td>\n",
              "      <td>6</td>\n",
              "      <td>...</td>\n",
              "      <td>0</td>\n",
              "      <td>0.75</td>\n",
              "      <td>0.90</td>\n",
              "      <td>0</td>\n",
              "      <td>Yes</td>\n",
              "      <td>No</td>\n",
              "      <td>No</td>\n",
              "      <td>Yes</td>\n",
              "      <td>No</td>\n",
              "      <td>No</td>\n",
              "    </tr>\n",
              "    <tr>\n",
              "      <th>4</th>\n",
              "      <td>1360312</td>\n",
              "      <td>2</td>\n",
              "      <td>2.0</td>\n",
              "      <td>0</td>\n",
              "      <td>4</td>\n",
              "      <td>6</td>\n",
              "      <td>10</td>\n",
              "      <td>2</td>\n",
              "      <td>2</td>\n",
              "      <td>5</td>\n",
              "      <td>...</td>\n",
              "      <td>0</td>\n",
              "      <td>0.97</td>\n",
              "      <td>0.92</td>\n",
              "      <td>0</td>\n",
              "      <td>No</td>\n",
              "      <td>No</td>\n",
              "      <td>No</td>\n",
              "      <td>Yes</td>\n",
              "      <td>No</td>\n",
              "      <td>No</td>\n",
              "    </tr>\n",
              "  </tbody>\n",
              "</table>\n",
              "<p>5 rows × 23 columns</p>\n",
              "</div>"
            ],
            "text/plain": [
              "       sku  national_inv  lead_time  in_transit_qty  forecast_3_month  \\\n",
              "0  1888279           117        NaN               0                 0   \n",
              "1  1870557             7        2.0               0                 0   \n",
              "2  1475481           258       15.0              10                10   \n",
              "3  1758220            46        2.0               0                 0   \n",
              "4  1360312             2        2.0               0                 4   \n",
              "\n",
              "   forecast_6_month  forecast_9_month  sales_1_month  sales_3_month  \\\n",
              "0                 0                 0              0              0   \n",
              "1                 0                 0              0              0   \n",
              "2                77               184             46            132   \n",
              "3                 0                 0              1              2   \n",
              "4                 6                10              2              2   \n",
              "\n",
              "   sales_6_month        ...         pieces_past_due  perf_6_month_avg  \\\n",
              "0             15        ...                       0            -99.00   \n",
              "1              0        ...                       0              0.50   \n",
              "2            256        ...                       0              0.54   \n",
              "3              6        ...                       0              0.75   \n",
              "4              5        ...                       0              0.97   \n",
              "\n",
              "  perf_12_month_avg  local_bo_qty  deck_risk  oe_constraint  ppap_risk  \\\n",
              "0            -99.00             0         No             No        Yes   \n",
              "1              0.28             0        Yes             No         No   \n",
              "2              0.70             0         No             No         No   \n",
              "3              0.90             0        Yes             No         No   \n",
              "4              0.92             0         No             No         No   \n",
              "\n",
              "  stop_auto_buy rev_stop went_on_backorder  \n",
              "0           Yes       No                No  \n",
              "1           Yes       No                No  \n",
              "2           Yes       No                No  \n",
              "3           Yes       No                No  \n",
              "4           Yes       No                No  \n",
              "\n",
              "[5 rows x 23 columns]"
            ]
          },
          "metadata": {
            "tags": []
          },
          "execution_count": 4
        }
      ]
    },
    {
      "metadata": {
        "id": "Z1ALbUsTMxjW",
        "colab_type": "code",
        "colab": {
          "base_uri": "https://localhost:8080/",
          "height": 304
        },
        "outputId": "beda4acb-db6d-42b3-ee73-39b360ebcc66"
      },
      "cell_type": "code",
      "source": [
        "BackOrders.describe() # missing values in lead_time"
      ],
      "execution_count": 5,
      "outputs": [
        {
          "output_type": "execute_result",
          "data": {
            "text/html": [
              "<div>\n",
              "<style scoped>\n",
              "    .dataframe tbody tr th:only-of-type {\n",
              "        vertical-align: middle;\n",
              "    }\n",
              "\n",
              "    .dataframe tbody tr th {\n",
              "        vertical-align: top;\n",
              "    }\n",
              "\n",
              "    .dataframe thead th {\n",
              "        text-align: right;\n",
              "    }\n",
              "</style>\n",
              "<table border=\"1\" class=\"dataframe\">\n",
              "  <thead>\n",
              "    <tr style=\"text-align: right;\">\n",
              "      <th></th>\n",
              "      <th>sku</th>\n",
              "      <th>national_inv</th>\n",
              "      <th>lead_time</th>\n",
              "      <th>in_transit_qty</th>\n",
              "      <th>forecast_3_month</th>\n",
              "      <th>forecast_6_month</th>\n",
              "      <th>forecast_9_month</th>\n",
              "      <th>sales_1_month</th>\n",
              "      <th>sales_3_month</th>\n",
              "      <th>sales_6_month</th>\n",
              "      <th>sales_9_month</th>\n",
              "      <th>min_bank</th>\n",
              "      <th>pieces_past_due</th>\n",
              "      <th>perf_6_month_avg</th>\n",
              "      <th>perf_12_month_avg</th>\n",
              "      <th>local_bo_qty</th>\n",
              "    </tr>\n",
              "  </thead>\n",
              "  <tbody>\n",
              "    <tr>\n",
              "      <th>count</th>\n",
              "      <td>6.158900e+04</td>\n",
              "      <td>61589.000000</td>\n",
              "      <td>58186.000000</td>\n",
              "      <td>61589.000000</td>\n",
              "      <td>6.158900e+04</td>\n",
              "      <td>6.158900e+04</td>\n",
              "      <td>6.158900e+04</td>\n",
              "      <td>61589.000000</td>\n",
              "      <td>61589.000000</td>\n",
              "      <td>6.158900e+04</td>\n",
              "      <td>6.158900e+04</td>\n",
              "      <td>61589.000000</td>\n",
              "      <td>61589.000000</td>\n",
              "      <td>61589.000000</td>\n",
              "      <td>61589.000000</td>\n",
              "      <td>61589.000000</td>\n",
              "    </tr>\n",
              "    <tr>\n",
              "      <th>mean</th>\n",
              "      <td>2.037188e+06</td>\n",
              "      <td>287.721882</td>\n",
              "      <td>7.559619</td>\n",
              "      <td>30.192843</td>\n",
              "      <td>1.692728e+02</td>\n",
              "      <td>3.150413e+02</td>\n",
              "      <td>4.535760e+02</td>\n",
              "      <td>44.742957</td>\n",
              "      <td>150.732631</td>\n",
              "      <td>2.835465e+02</td>\n",
              "      <td>4.196427e+02</td>\n",
              "      <td>43.087256</td>\n",
              "      <td>1.605400</td>\n",
              "      <td>-6.264182</td>\n",
              "      <td>-5.863664</td>\n",
              "      <td>1.205361</td>\n",
              "    </tr>\n",
              "    <tr>\n",
              "      <th>std</th>\n",
              "      <td>6.564178e+05</td>\n",
              "      <td>4233.906931</td>\n",
              "      <td>6.498952</td>\n",
              "      <td>792.869253</td>\n",
              "      <td>5.286742e+03</td>\n",
              "      <td>9.774362e+03</td>\n",
              "      <td>1.420201e+04</td>\n",
              "      <td>1373.805831</td>\n",
              "      <td>5224.959649</td>\n",
              "      <td>8.872270e+03</td>\n",
              "      <td>1.269858e+04</td>\n",
              "      <td>959.614135</td>\n",
              "      <td>42.309229</td>\n",
              "      <td>25.537906</td>\n",
              "      <td>24.844514</td>\n",
              "      <td>29.981155</td>\n",
              "    </tr>\n",
              "    <tr>\n",
              "      <th>min</th>\n",
              "      <td>1.068628e+06</td>\n",
              "      <td>-2999.000000</td>\n",
              "      <td>0.000000</td>\n",
              "      <td>0.000000</td>\n",
              "      <td>0.000000e+00</td>\n",
              "      <td>0.000000e+00</td>\n",
              "      <td>0.000000e+00</td>\n",
              "      <td>0.000000</td>\n",
              "      <td>0.000000</td>\n",
              "      <td>0.000000e+00</td>\n",
              "      <td>0.000000e+00</td>\n",
              "      <td>0.000000</td>\n",
              "      <td>0.000000</td>\n",
              "      <td>-99.000000</td>\n",
              "      <td>-99.000000</td>\n",
              "      <td>0.000000</td>\n",
              "    </tr>\n",
              "    <tr>\n",
              "      <th>25%</th>\n",
              "      <td>1.498574e+06</td>\n",
              "      <td>3.000000</td>\n",
              "      <td>4.000000</td>\n",
              "      <td>0.000000</td>\n",
              "      <td>0.000000e+00</td>\n",
              "      <td>0.000000e+00</td>\n",
              "      <td>0.000000e+00</td>\n",
              "      <td>0.000000</td>\n",
              "      <td>0.000000</td>\n",
              "      <td>0.000000e+00</td>\n",
              "      <td>0.000000e+00</td>\n",
              "      <td>0.000000</td>\n",
              "      <td>0.000000</td>\n",
              "      <td>0.620000</td>\n",
              "      <td>0.640000</td>\n",
              "      <td>0.000000</td>\n",
              "    </tr>\n",
              "    <tr>\n",
              "      <th>50%</th>\n",
              "      <td>1.898033e+06</td>\n",
              "      <td>10.000000</td>\n",
              "      <td>8.000000</td>\n",
              "      <td>0.000000</td>\n",
              "      <td>0.000000e+00</td>\n",
              "      <td>0.000000e+00</td>\n",
              "      <td>0.000000e+00</td>\n",
              "      <td>0.000000</td>\n",
              "      <td>2.000000</td>\n",
              "      <td>4.000000e+00</td>\n",
              "      <td>6.000000e+00</td>\n",
              "      <td>0.000000</td>\n",
              "      <td>0.000000</td>\n",
              "      <td>0.820000</td>\n",
              "      <td>0.800000</td>\n",
              "      <td>0.000000</td>\n",
              "    </tr>\n",
              "    <tr>\n",
              "      <th>75%</th>\n",
              "      <td>2.314826e+06</td>\n",
              "      <td>57.000000</td>\n",
              "      <td>8.000000</td>\n",
              "      <td>0.000000</td>\n",
              "      <td>1.200000e+01</td>\n",
              "      <td>2.500000e+01</td>\n",
              "      <td>3.600000e+01</td>\n",
              "      <td>6.000000</td>\n",
              "      <td>17.000000</td>\n",
              "      <td>3.400000e+01</td>\n",
              "      <td>5.100000e+01</td>\n",
              "      <td>3.000000</td>\n",
              "      <td>0.000000</td>\n",
              "      <td>0.960000</td>\n",
              "      <td>0.950000</td>\n",
              "      <td>0.000000</td>\n",
              "    </tr>\n",
              "    <tr>\n",
              "      <th>max</th>\n",
              "      <td>3.284895e+06</td>\n",
              "      <td>673445.000000</td>\n",
              "      <td>52.000000</td>\n",
              "      <td>170976.000000</td>\n",
              "      <td>1.126656e+06</td>\n",
              "      <td>2.094336e+06</td>\n",
              "      <td>3.062016e+06</td>\n",
              "      <td>295197.000000</td>\n",
              "      <td>934593.000000</td>\n",
              "      <td>1.799099e+06</td>\n",
              "      <td>2.631590e+06</td>\n",
              "      <td>192978.000000</td>\n",
              "      <td>7392.000000</td>\n",
              "      <td>1.000000</td>\n",
              "      <td>1.000000</td>\n",
              "      <td>2999.000000</td>\n",
              "    </tr>\n",
              "  </tbody>\n",
              "</table>\n",
              "</div>"
            ],
            "text/plain": [
              "                sku   national_inv     lead_time  in_transit_qty  \\\n",
              "count  6.158900e+04   61589.000000  58186.000000    61589.000000   \n",
              "mean   2.037188e+06     287.721882      7.559619       30.192843   \n",
              "std    6.564178e+05    4233.906931      6.498952      792.869253   \n",
              "min    1.068628e+06   -2999.000000      0.000000        0.000000   \n",
              "25%    1.498574e+06       3.000000      4.000000        0.000000   \n",
              "50%    1.898033e+06      10.000000      8.000000        0.000000   \n",
              "75%    2.314826e+06      57.000000      8.000000        0.000000   \n",
              "max    3.284895e+06  673445.000000     52.000000   170976.000000   \n",
              "\n",
              "       forecast_3_month  forecast_6_month  forecast_9_month  sales_1_month  \\\n",
              "count      6.158900e+04      6.158900e+04      6.158900e+04   61589.000000   \n",
              "mean       1.692728e+02      3.150413e+02      4.535760e+02      44.742957   \n",
              "std        5.286742e+03      9.774362e+03      1.420201e+04    1373.805831   \n",
              "min        0.000000e+00      0.000000e+00      0.000000e+00       0.000000   \n",
              "25%        0.000000e+00      0.000000e+00      0.000000e+00       0.000000   \n",
              "50%        0.000000e+00      0.000000e+00      0.000000e+00       0.000000   \n",
              "75%        1.200000e+01      2.500000e+01      3.600000e+01       6.000000   \n",
              "max        1.126656e+06      2.094336e+06      3.062016e+06  295197.000000   \n",
              "\n",
              "       sales_3_month  sales_6_month  sales_9_month       min_bank  \\\n",
              "count   61589.000000   6.158900e+04   6.158900e+04   61589.000000   \n",
              "mean      150.732631   2.835465e+02   4.196427e+02      43.087256   \n",
              "std      5224.959649   8.872270e+03   1.269858e+04     959.614135   \n",
              "min         0.000000   0.000000e+00   0.000000e+00       0.000000   \n",
              "25%         0.000000   0.000000e+00   0.000000e+00       0.000000   \n",
              "50%         2.000000   4.000000e+00   6.000000e+00       0.000000   \n",
              "75%        17.000000   3.400000e+01   5.100000e+01       3.000000   \n",
              "max    934593.000000   1.799099e+06   2.631590e+06  192978.000000   \n",
              "\n",
              "       pieces_past_due  perf_6_month_avg  perf_12_month_avg  local_bo_qty  \n",
              "count     61589.000000      61589.000000       61589.000000  61589.000000  \n",
              "mean          1.605400         -6.264182          -5.863664      1.205361  \n",
              "std          42.309229         25.537906          24.844514     29.981155  \n",
              "min           0.000000        -99.000000         -99.000000      0.000000  \n",
              "25%           0.000000          0.620000           0.640000      0.000000  \n",
              "50%           0.000000          0.820000           0.800000      0.000000  \n",
              "75%           0.000000          0.960000           0.950000      0.000000  \n",
              "max        7392.000000          1.000000           1.000000   2999.000000  "
            ]
          },
          "metadata": {
            "tags": []
          },
          "execution_count": 5
        }
      ]
    },
    {
      "metadata": {
        "id": "TiUhfqVmM4JD",
        "colab_type": "text"
      },
      "cell_type": "markdown",
      "source": [
        "Exploratory analysis to impute lead time"
      ]
    },
    {
      "metadata": {
        "id": "6rOia2s3NVpk",
        "colab_type": "code",
        "colab": {
          "base_uri": "https://localhost:8080/",
          "height": 2114
        },
        "outputId": "489caec5-6fc3-406d-c42e-e4122d4fbf7b"
      },
      "cell_type": "code",
      "source": [
        "columns = [\"went_on_backorder\", \"deck_risk\", \"oe_constraint\", \"ppap_risk\", \"stop_auto_buy\", \"rev_stop\"]\n",
        "\n",
        "for col in columns:\n",
        "  plt.figure()\n",
        "  sns.boxplot(x=\"lead_time\", y=col, data=BackOrders)\n",
        "\n"
      ],
      "execution_count": 6,
      "outputs": [
        {
          "output_type": "stream",
          "text": [
            "/usr/local/lib/python3.6/dist-packages/seaborn/categorical.py:454: FutureWarning: remove_na is deprecated and is a private function. Do not use.\n",
            "  box_data = remove_na(group_data)\n"
          ],
          "name": "stderr"
        },
        {
          "output_type": "display_data",
          "data": {
            "image/png": "[encoded data removed]",
            "text/plain": [
              "<matplotlib.figure.Figure at 0x7f982e713ef0>"
            ]
          },
          "metadata": {
            "tags": []
          }
        },
        {
          "output_type": "display_data",
          "data": {
            "image/png": "[encoded data removed]",
            "text/plain": [
              "<matplotlib.figure.Figure at 0x7f982e71f8d0>"
            ]
          },
          "metadata": {
            "tags": []
          }
        },
        {
          "output_type": "display_data",
          "data": {
            "image/png": "[encoded data removed]",
            "text/plain": [
              "<matplotlib.figure.Figure at 0x7f982e675dd8>"
            ]
          },
          "metadata": {
            "tags": []
          }
        },
        {
          "output_type": "display_data",
          "data": {
            "image/png": "[encoded data removed]",
            "text/plain": [
              "<matplotlib.figure.Figure at 0x7f982e5ceb00>"
            ]
          },
          "metadata": {
            "tags": []
          }
        },
        {
          "output_type": "display_data",
          "data": {
            "image/png": "[encoded data removed]",
            "text/plain": [
              "<matplotlib.figure.Figure at 0x7f982e555cc0>"
            ]
          },
          "metadata": {
            "tags": []
          }
        },
        {
          "output_type": "display_data",
          "data": {
            "image/png": "[encoded data removed]",
            "text/plain": [
              "<matplotlib.figure.Figure at 0x7f982e5ad390>"
            ]
          },
          "metadata": {
            "tags": []
          }
        }
      ]
    },
    {
      "metadata": {
        "id": "Y3sAoBtwO7Zz",
        "colab_type": "text"
      },
      "cell_type": "markdown",
      "source": [
        "Evaluating fields hich can be used to impute lead time NA values"
      ]
    },
    {
      "metadata": {
        "id": "qLWARTG8O3r-",
        "colab_type": "code",
        "colab": {
          "base_uri": "https://localhost:8080/",
          "height": 487
        },
        "outputId": "f8e33a00-f5e2-4583-f5aa-893056d195e8"
      },
      "cell_type": "code",
      "source": [
        "print(BackOrders.groupby('stop_auto_buy', as_index=False)['lead_time'].mean())\n",
        "print(BackOrders.groupby('rev_stop', as_index=False)['lead_time'].mean())\n",
        "print(BackOrders.groupby('oe_constraint', as_index=False)['lead_time'].mean())\n",
        "print(BackOrders.groupby(['stop_auto_buy', 'oe_constraint'], as_index=False)['lead_time'].mean())\n",
        "print(BackOrders.groupby(['stop_auto_buy', 'rev_stop'], as_index=False)['lead_time'].mean())\n",
        "print(BackOrders.groupby(['rev_stop', 'oe_constraint'], as_index=False)['lead_time'].mean())\n",
        "print(BackOrders.groupby(['stop_auto_buy', 'rev_stop', 'oe_constraint'], as_index=False)['lead_time'].mean())"
      ],
      "execution_count": 7,
      "outputs": [
        {
          "output_type": "stream",
          "text": [
            "  stop_auto_buy  lead_time\n",
            "0            No  17.137931\n",
            "1           Yes   7.314827\n",
            "  rev_stop  lead_time\n",
            "0       No   7.559555\n",
            "1      Yes   7.846154\n",
            "  oe_constraint  lead_time\n",
            "0            No   7.560353\n",
            "1           Yes   4.000000\n",
            "  stop_auto_buy oe_constraint  lead_time\n",
            "0            No            No  17.137931\n",
            "1           Yes            No   7.315528\n",
            "2           Yes           Yes   4.000000\n",
            "  stop_auto_buy rev_stop  lead_time\n",
            "0            No       No  17.194444\n",
            "1            No      Yes   9.000000\n",
            "2           Yes       No   7.315002\n",
            "3           Yes      Yes   4.000000\n",
            "  rev_stop oe_constraint  lead_time\n",
            "0       No            No   7.560290\n",
            "1       No           Yes   4.000000\n",
            "2      Yes            No   7.846154\n",
            "  stop_auto_buy rev_stop oe_constraint  lead_time\n",
            "0            No       No            No  17.194444\n",
            "1            No      Yes            No   9.000000\n",
            "2           Yes       No            No   7.315703\n",
            "3           Yes       No           Yes   4.000000\n",
            "4           Yes      Yes            No   4.000000\n"
          ],
          "name": "stdout"
        }
      ]
    },
    {
      "metadata": {
        "id": "t-UV1wJYPKUG",
        "colab_type": "text"
      },
      "cell_type": "markdown",
      "source": [
        "Imputing lead_time"
      ]
    },
    {
      "metadata": {
        "id": "rPVmxtyiPIWD",
        "colab_type": "code",
        "colab": {}
      },
      "cell_type": "code",
      "source": [
        "\n",
        "BackOrders['lead_time'] = BackOrders.groupby(['stop_auto_buy', 'rev_stop', 'oe_constraint'])['lead_time'].transform(lambda x: x.fillna(x.mean()))\n"
      ],
      "execution_count": 0,
      "outputs": []
    },
    {
      "metadata": {
        "id": "I3dCZVj5Pc_U",
        "colab_type": "text"
      },
      "cell_type": "markdown",
      "source": [
        "Changing datatype of objects column to categories for dummification later on"
      ]
    },
    {
      "metadata": {
        "id": "CWseSxNVPd6s",
        "colab_type": "code",
        "colab": {}
      },
      "cell_type": "code",
      "source": [
        "\n",
        "def dtype_Convert(dtp1, col, data):\n",
        "    for i in range(len(dtp1)):\n",
        "        if dtp1[i] == \"object\":\n",
        "            data[col[i]]=data[col[i]].astype('category')"
      ],
      "execution_count": 0,
      "outputs": []
    },
    {
      "metadata": {
        "id": "tAAJ-sWGpUa3",
        "colab_type": "code",
        "colab": {}
      },
      "cell_type": "code",
      "source": [
        "dtp = pd.Series(BackOrders.dtypes)\n",
        "dtp1 = dtp.tolist()\n",
        "col = BackOrders.columns.tolist()"
      ],
      "execution_count": 0,
      "outputs": []
    },
    {
      "metadata": {
        "id": "QBQH_7_noI7j",
        "colab_type": "code",
        "colab": {}
      },
      "cell_type": "code",
      "source": [
        "dtype_Convert(dtp1, col, BackOrders)"
      ],
      "execution_count": 0,
      "outputs": []
    },
    {
      "metadata": {
        "id": "xbJim4Aephka",
        "colab_type": "text"
      },
      "cell_type": "markdown",
      "source": [
        "Outlier detection and treatment"
      ]
    },
    {
      "metadata": {
        "id": "ga4xY5k-pg87",
        "colab_type": "code",
        "colab": {
          "base_uri": "https://localhost:8080/",
          "height": 5554
        },
        "outputId": "ba8bd8e7-5609-474a-dcfc-36fa3078de31"
      },
      "cell_type": "code",
      "source": [
        "cols = list(BackOrders.select_dtypes(include=['int', 'float']).columns)\n",
        "\n",
        "for col in cols:\n",
        "  plt.figure()\n",
        "  sns.boxplot(x=col, y=\"went_on_backorder\", data=BackOrders)"
      ],
      "execution_count": 12,
      "outputs": [
        {
          "output_type": "stream",
          "text": [
            "/usr/local/lib/python3.6/dist-packages/seaborn/categorical.py:454: FutureWarning: remove_na is deprecated and is a private function. Do not use.\n",
            "  box_data = remove_na(group_data)\n"
          ],
          "name": "stderr"
        },
        {
          "output_type": "display_data",
          "data": {
            "image/png": "[encoded data removed]",
            "text/plain": [
              "<matplotlib.figure.Figure at 0x7f982e744e80>"
            ]
          },
          "metadata": {
            "tags": []
          }
        },
        {
          "output_type": "display_data",
          "data": {
            "image/png": "[encoded data removed]",
            "text/plain": [
              "<matplotlib.figure.Figure at 0x7f982e71b358>"
            ]
          },
          "metadata": {
            "tags": []
          }
        },
        {
          "output_type": "display_data",
          "data": {
            "image/png": "[encoded data removed]",
            "text/plain": [
              "<matplotlib.figure.Figure at 0x7f982bbc8908>"
            ]
          },
          "metadata": {
            "tags": []
          }
        },
        {
          "output_type": "display_data",
          "data": {
            "image/png": "[encoded data removed]",
            "text/plain": [
              "<matplotlib.figure.Figure at 0x7f982e5cef28>"
            ]
          },
          "metadata": {
            "tags": []
          }
        },
        {
          "output_type": "display_data",
          "data": {
            "image/png": "[encoded data removed]",
            "text/plain": [
              "<matplotlib.figure.Figure at 0x7f982e6e67f0>"
            ]
          },
          "metadata": {
            "tags": []
          }
        },
        {
          "output_type": "display_data",
          "data": {
            "image/png": "[encoded data removed]",
            "text/plain": [
              "<matplotlib.figure.Figure at 0x7f982e4ffb00>"
            ]
          },
          "metadata": {
            "tags": []
          }
        },
        {
          "output_type": "display_data",
          "data": {
            "image/png": "[encoded data removed]",
            "text/plain": [
              "<matplotlib.figure.Figure at 0x7f982e4fc390>"
            ]
          },
          "metadata": {
            "tags": []
          }
        },
        {
          "output_type": "display_data",
          "data": {
            "image/png": "[encoded data removed]",
            "text/plain": [
              "<matplotlib.figure.Figure at 0x7f982e555e80>"
            ]
          },
          "metadata": {
            "tags": []
          }
        },
        {
          "output_type": "display_data",
          "data": {
            "image/png": "[encoded data removed]",
            "text/plain": [
              "<matplotlib.figure.Figure at 0x7f982e58cc18>"
            ]
          },
          "metadata": {
            "tags": []
          }
        },
        {
          "output_type": "display_data",
          "data": {
            "image/png": "[encoded data removed]",
            "text/plain": [
              "<matplotlib.figure.Figure at 0x7f982bbab4e0>"
            ]
          },
          "metadata": {
            "tags": []
          }
        },
        {
          "output_type": "display_data",
          "data": {
            "image/png": "[encoded data removed]",
            "text/plain": [
              "<matplotlib.figure.Figure at 0x7f982bb7c9e8>"
            ]
          },
          "metadata": {
            "tags": []
          }
        },
        {
          "output_type": "display_data",
          "data": {
            "image/png": "[encoded data removed]",
            "text/plain": [
              "<matplotlib.figure.Figure at 0x7f982bada2b0>"
            ]
          },
          "metadata": {
            "tags": []
          }
        },
        {
          "output_type": "display_data",
          "data": {
            "image/png": "[encoded data removed]",
            "text/plain": [
              "<matplotlib.figure.Figure at 0x7f982bab1f28>"
            ]
          },
          "metadata": {
            "tags": []
          }
        },
        {
          "output_type": "display_data",
          "data": {
            "image/png": "[encoded data removed]",
            "text/plain": [
              "<matplotlib.figure.Figure at 0x7f982ba0b940>"
            ]
          },
          "metadata": {
            "tags": []
          }
        },
        {
          "output_type": "display_data",
          "data": {
            "image/png": "[encoded data removed]",
            "text/plain": [
              "<matplotlib.figure.Figure at 0x7f982b9ea198>"
            ]
          },
          "metadata": {
            "tags": []
          }
        },
        {
          "output_type": "display_data",
          "data": {
            "image/png": "[encoded data removed]",
            "text/plain": [
              "<matplotlib.figure.Figure at 0x7f982b942a20>"
            ]
          },
          "metadata": {
            "tags": []
          }
        }
      ]
    },
    {
      "metadata": {
        "id": "Kn2wIdf6pg6p",
        "colab_type": "code",
        "colab": {}
      },
      "cell_type": "code",
      "source": [
        "cols = list(BackOrders.select_dtypes(include=['int', 'float']).columns)\n",
        "\n",
        "cols = [e for e in cols if e not in (\"local_bo_qty\", \"lead_time\", \"sku\")]\n"
      ],
      "execution_count": 0,
      "outputs": []
    },
    {
      "metadata": {
        "id": "svihfXUPpyVe",
        "colab_type": "text"
      },
      "cell_type": "markdown",
      "source": [
        "Using quantile methods for outier treatment.\n",
        "Outlier treatment on new data to compare with old dataset"
      ]
    },
    {
      "metadata": {
        "id": "XtT_VUxIpx9t",
        "colab_type": "code",
        "colab": {}
      },
      "cell_type": "code",
      "source": [
        "BackOrders_Out = pd.read_csv(\"/content/drive/My Drive/Colab_Folder/BackOrders.csv\", na_values=[\"?\",\",\"])\n",
        "BackOrders_Out['lead_time'] = BackOrders_Out.groupby(['stop_auto_buy', 'rev_stop', 'oe_constraint'])['lead_time'].transform(lambda x: x.fillna(x.mean()))"
      ],
      "execution_count": 0,
      "outputs": []
    },
    {
      "metadata": {
        "id": "9V9zAy8Npg4R",
        "colab_type": "code",
        "colab": {}
      },
      "cell_type": "code",
      "source": [
        "def outliers_iqr(cols, df):\n",
        "  for col in cols:\n",
        "    quartile_1 = df[col].quantile(0.25) \n",
        "    quartile_3 = df[col].quantile(0.75)\n",
        "    iqr = quartile_3 - quartile_1\n",
        "    lower_bound = quartile_1 - (iqr * 1.5)\n",
        "    upper_bound = quartile_3 + (iqr * 1.5)\n",
        "    median = df[col].median()\n",
        "    df[col] = df[col].mask(df[col] > upper_bound, median)\n",
        "    df[col] = df[col].mask(df[col] < lower_bound, median)   \n",
        "  return"
      ],
      "execution_count": 0,
      "outputs": []
    },
    {
      "metadata": {
        "id": "tTwO2eUbpg1K",
        "colab_type": "code",
        "colab": {}
      },
      "cell_type": "code",
      "source": [
        "outliers_iqr(cols, BackOrders_Out)"
      ],
      "execution_count": 0,
      "outputs": []
    },
    {
      "metadata": {
        "id": "BsC96-XIqyaA",
        "colab_type": "text"
      },
      "cell_type": "markdown",
      "source": [
        "Comparing summary to check effect of outlier treatment"
      ]
    },
    {
      "metadata": {
        "id": "kfQgtGQapgyU",
        "colab_type": "code",
        "colab": {
          "base_uri": "https://localhost:8080/",
          "height": 1210
        },
        "outputId": "5b23d697-c981-45f5-adca-425246dc7005"
      },
      "cell_type": "code",
      "source": [
        "\n",
        "print(pd.concat([pd.DataFrame(BackOrders.describe()), pd.DataFrame(BackOrders_Out.describe())]))"
      ],
      "execution_count": 17,
      "outputs": [
        {
          "output_type": "stream",
          "text": [
            "                sku   national_inv     lead_time  in_transit_qty  \\\n",
            "count  6.158900e+04   61589.000000  61589.000000    61589.000000   \n",
            "mean   2.037188e+06     287.721882      7.679858       30.192843   \n",
            "std    6.564178e+05    4233.906931      6.414996      792.869253   \n",
            "min    1.068628e+06   -2999.000000      0.000000        0.000000   \n",
            "25%    1.498574e+06       3.000000      4.000000        0.000000   \n",
            "50%    1.898033e+06      10.000000      8.000000        0.000000   \n",
            "75%    2.314826e+06      57.000000      8.000000        0.000000   \n",
            "max    3.284895e+06  673445.000000     52.000000   170976.000000   \n",
            "count  6.158900e+04   61589.000000  61589.000000    61589.000000   \n",
            "mean   2.037188e+06      18.053646      7.679858        0.000000   \n",
            "std    6.564178e+05      27.157908      6.414996        0.000000   \n",
            "min    1.068628e+06     -75.000000      0.000000        0.000000   \n",
            "25%    1.498574e+06       3.000000      4.000000        0.000000   \n",
            "50%    1.898033e+06      10.000000      8.000000        0.000000   \n",
            "75%    2.314826e+06      18.000000      8.000000        0.000000   \n",
            "max    3.284895e+06     138.000000     52.000000        0.000000   \n",
            "\n",
            "       forecast_3_month  forecast_6_month  forecast_9_month  sales_1_month  \\\n",
            "count      6.158900e+04      6.158900e+04      6.158900e+04   61589.000000   \n",
            "mean       1.692728e+02      3.150413e+02      4.535760e+02      44.742957   \n",
            "std        5.286742e+03      9.774362e+03      1.420201e+04    1373.805831   \n",
            "min        0.000000e+00      0.000000e+00      0.000000e+00       0.000000   \n",
            "25%        0.000000e+00      0.000000e+00      0.000000e+00       0.000000   \n",
            "50%        0.000000e+00      0.000000e+00      0.000000e+00       0.000000   \n",
            "75%        1.200000e+01      2.500000e+01      3.600000e+01       6.000000   \n",
            "max        1.126656e+06      2.094336e+06      3.062016e+06  295197.000000   \n",
            "count      6.158900e+04      6.158900e+04      6.158900e+04   61589.000000   \n",
            "mean       2.320950e+00      4.951923e+00      7.165874e+00       1.457013   \n",
            "std        5.767793e+00      1.163105e+01      1.664275e+01       2.981867   \n",
            "min        0.000000e+00      0.000000e+00      0.000000e+00       0.000000   \n",
            "25%        0.000000e+00      0.000000e+00      0.000000e+00       0.000000   \n",
            "50%        0.000000e+00      0.000000e+00      0.000000e+00       0.000000   \n",
            "75%        0.000000e+00      2.000000e+00      4.000000e+00       1.000000   \n",
            "max        3.000000e+01      6.200000e+01      9.000000e+01      15.000000   \n",
            "\n",
            "       sales_3_month  sales_6_month  sales_9_month       min_bank  \\\n",
            "count   61589.000000   6.158900e+04   6.158900e+04   61589.000000   \n",
            "mean      150.732631   2.835465e+02   4.196427e+02      43.087256   \n",
            "std      5224.959649   8.872270e+03   1.269858e+04     959.614135   \n",
            "min         0.000000   0.000000e+00   0.000000e+00       0.000000   \n",
            "25%         0.000000   0.000000e+00   0.000000e+00       0.000000   \n",
            "50%         2.000000   4.000000e+00   6.000000e+00       0.000000   \n",
            "75%        17.000000   3.400000e+01   5.100000e+01       3.000000   \n",
            "max    934593.000000   1.799099e+06   2.631590e+06  192978.000000   \n",
            "count   61589.000000   6.158900e+04   6.158900e+04   61589.000000   \n",
            "mean        4.641300   9.253958e+00   1.379295e+01       0.560636   \n",
            "std         8.218458   1.626324e+01   2.417860e+01       1.196627   \n",
            "min         0.000000   0.000000e+00   0.000000e+00       0.000000   \n",
            "25%         0.000000   0.000000e+00   0.000000e+00       0.000000   \n",
            "50%         2.000000   4.000000e+00   6.000000e+00       0.000000   \n",
            "75%         4.000000   9.000000e+00   1.300000e+01       1.000000   \n",
            "max        42.000000   8.500000e+01   1.270000e+02       7.000000   \n",
            "\n",
            "       pieces_past_due  perf_6_month_avg  perf_12_month_avg  local_bo_qty  \n",
            "count     61589.000000      61589.000000       61589.000000  61589.000000  \n",
            "mean          1.605400         -6.264182          -5.863664      1.205361  \n",
            "std          42.309229         25.537906          24.844514     29.981155  \n",
            "min           0.000000        -99.000000         -99.000000      0.000000  \n",
            "25%           0.000000          0.620000           0.640000      0.000000  \n",
            "50%           0.000000          0.820000           0.800000      0.000000  \n",
            "75%           0.000000          0.960000           0.950000      0.000000  \n",
            "max        7392.000000          1.000000           1.000000   2999.000000  \n",
            "count     61589.000000      61589.000000       61589.000000  61589.000000  \n",
            "mean          0.000000          0.803452           0.801813      1.205361  \n",
            "std           0.000000          0.187847           0.171256     29.981155  \n",
            "min           0.000000          0.110000           0.180000      0.000000  \n",
            "25%           0.000000          0.730000           0.740000      0.000000  \n",
            "50%           0.000000          0.820000           0.800000      0.000000  \n",
            "75%           0.000000          0.960000           0.950000      0.000000  \n",
            "max           0.000000          1.000000           1.000000   2999.000000  \n"
          ],
          "name": "stdout"
        }
      ]
    },
    {
      "metadata": {
        "id": "sffchwPttIWV",
        "colab_type": "code",
        "colab": {
          "base_uri": "https://localhost:8080/",
          "height": 426
        },
        "outputId": "2ca433c2-355b-41f2-8b27-d3ae088fa2c2"
      },
      "cell_type": "code",
      "source": [
        "#Plotting the frequencies of orders which went into backorder and which did not\n",
        "count_classes = pd.value_counts(BackOrders_Out['went_on_backorder'], sort = True)\n",
        "print(count_classes)\n",
        "\n",
        "#Drawing a barplot\n",
        "count_classes.plot(kind = 'bar', rot=0)\n",
        "\n",
        "#Giving titles and labels to the plot\n",
        "plt.title(\"Transaction class distribution\")\n",
        "plt.xlabel(\"Class\")\n",
        "plt.ylabel(\"Frequency\");"
      ],
      "execution_count": 18,
      "outputs": [
        {
          "output_type": "stream",
          "text": [
            "No     50296\n",
            "Yes    11293\n",
            "Name: went_on_backorder, dtype: int64\n"
          ],
          "name": "stdout"
        },
        {
          "output_type": "display_data",
          "data": {
            "image/png": "[encoded data removed]",
            "text/plain": [
              "<matplotlib.figure.Figure at 0x7f982b721668>"
            ]
          },
          "metadata": {
            "tags": []
          }
        }
      ]
    },
    {
      "metadata": {
        "id": "k_JCyQ4stIJL",
        "colab_type": "code",
        "colab": {}
      },
      "cell_type": "code",
      "source": [
        ""
      ],
      "execution_count": 0,
      "outputs": []
    },
    {
      "metadata": {
        "id": "fnsk9gP_q9gv",
        "colab_type": "text"
      },
      "cell_type": "markdown",
      "source": [
        "Implementing \"Fraud detection autoencoder approach\""
      ]
    },
    {
      "metadata": {
        "id": "yFG0U8HZwCQV",
        "colab_type": "text"
      },
      "cell_type": "markdown",
      "source": [
        "Creating training and test set and separating two classes i.e. went_on_backorder = ['no', 'yes']"
      ]
    },
    {
      "metadata": {
        "id": "zxRu_S5_pgvb",
        "colab_type": "code",
        "colab": {
          "base_uri": "https://localhost:8080/",
          "height": 50
        },
        "outputId": "c1ebca40-6181-486f-bd1f-ed9899d499f0"
      },
      "cell_type": "code",
      "source": [
        "train, test = train_test_split(BackOrders_Out, test_size=0.2, random_state=12345)\n",
        "print(train.shape)\n",
        "print(test.shape)"
      ],
      "execution_count": 19,
      "outputs": [
        {
          "output_type": "stream",
          "text": [
            "(49271, 23)\n",
            "(12318, 23)\n"
          ],
          "name": "stdout"
        }
      ]
    },
    {
      "metadata": {
        "id": "5Ipi32u5pgsg",
        "colab_type": "code",
        "colab": {}
      },
      "cell_type": "code",
      "source": [
        "# removing sku column\n",
        "# train = train.iloc[:, :-\"sku\"]\n",
        "train = train.drop(\"sku\", axis=1)\n",
        "# train.head(5)\n",
        "test = test.drop(\"sku\", axis=1)\n",
        "# train.head(5)"
      ],
      "execution_count": 0,
      "outputs": []
    },
    {
      "metadata": {
        "id": "ESrot4P9uZ7f",
        "colab_type": "text"
      },
      "cell_type": "markdown",
      "source": [
        "Let us consider  went_on_backorder =  'yes' as rare class and separate the two classes to fit an autoencoder"
      ]
    },
    {
      "metadata": {
        "id": "cLRTpQ6UQZ6v",
        "colab_type": "code",
        "outputId": "c575f556-aaad-4bf7-be84-df83db68ebd0",
        "colab": {
          "base_uri": "https://localhost:8080/",
          "height": 50
        }
      },
      "cell_type": "code",
      "source": [
        "#Now consider only the non-fraud records for training\n",
        "train_No = train.loc[train[\"went_on_backorder\"] == \"No\"]\n",
        "print(train_No.shape)\n",
        "\n",
        "# #Now consider only the non-fraud records for training\n",
        "train_Yes = train.loc[train[\"went_on_backorder\"] == \"Yes\"]\n",
        "# train_Yes = train_Yes[:,\"went_on_backorder\"]\n",
        "print(train_Yes.shape)"
      ],
      "execution_count": 21,
      "outputs": [
        {
          "output_type": "stream",
          "text": [
            "(40158, 22)\n",
            "(9113, 22)\n"
          ],
          "name": "stdout"
        }
      ]
    },
    {
      "metadata": {
        "id": "VZn3wSjkpgou",
        "colab_type": "code",
        "colab": {
          "base_uri": "https://localhost:8080/",
          "height": 34
        },
        "outputId": "99c7c66d-329d-472a-a43a-7ad3cb24dc2c"
      },
      "cell_type": "code",
      "source": [
        "X_train_No = train_No.iloc[:, :-1] #removing target column\n",
        "print(X_train_No.shape)"
      ],
      "execution_count": 22,
      "outputs": [
        {
          "output_type": "stream",
          "text": [
            "(40158, 21)\n"
          ],
          "name": "stdout"
        }
      ]
    },
    {
      "metadata": {
        "id": "KDqhzH4zv_DV",
        "colab_type": "text"
      },
      "cell_type": "markdown",
      "source": [
        "Clubbing test data with went_on_backorder =  'yes' of train data to ensure that the model is only trained on went_on_backorder =  'no'"
      ]
    },
    {
      "metadata": {
        "id": "SRatKW5Npglb",
        "colab_type": "code",
        "colab": {
          "base_uri": "https://localhost:8080/",
          "height": 34
        },
        "outputId": "f3a12b86-a9ab-44cf-984d-30c9b6fc8e8c"
      },
      "cell_type": "code",
      "source": [
        "test1 = pd.concat([train_Yes, test])\n",
        "print(test1.shape)"
      ],
      "execution_count": 23,
      "outputs": [
        {
          "output_type": "stream",
          "text": [
            "(21431, 22)\n"
          ],
          "name": "stdout"
        }
      ]
    },
    {
      "metadata": {
        "id": "PE5TqS34yIEL",
        "colab_type": "code",
        "colab": {}
      },
      "cell_type": "code",
      "source": [
        "X_test,X_eval = train_test_split(test1, test_size=0.2, random_state=1111)"
      ],
      "execution_count": 0,
      "outputs": []
    },
    {
      "metadata": {
        "id": "DP5S7obFyH_g",
        "colab_type": "code",
        "colab": {}
      },
      "cell_type": "code",
      "source": [
        "#Separating the independent and the class variable\n",
        "y_test = X_test.iloc[:,-1]\n",
        "X_test = X_test.iloc[:, :-1]"
      ],
      "execution_count": 0,
      "outputs": []
    },
    {
      "metadata": {
        "id": "pZIPN6Bzw0Lp",
        "colab_type": "text"
      },
      "cell_type": "markdown",
      "source": [
        "Converting \"category\" columns to dummy variables"
      ]
    },
    {
      "metadata": {
        "id": "dyC-JZI-wzJE",
        "colab_type": "code",
        "colab": {}
      },
      "cell_type": "code",
      "source": [
        "X_train_No = pd.get_dummies(X_train_No)\n",
        "X_test = pd.get_dummies(X_test)"
      ],
      "execution_count": 0,
      "outputs": []
    },
    {
      "metadata": {
        "id": "cXKlDW6Vw7AQ",
        "colab_type": "text"
      },
      "cell_type": "markdown",
      "source": [
        "Scaling the datasets"
      ]
    },
    {
      "metadata": {
        "id": "6HBtJiDiwzHv",
        "colab_type": "code",
        "colab": {}
      },
      "cell_type": "code",
      "source": [
        "x = X_train_No.values #returns a numpy array\n",
        "min_max_scaler_train = preprocessing.MinMaxScaler()\n",
        "x_scaled = min_max_scaler_train.fit_transform(x)\n",
        "X_train_No_scaled = pd.DataFrame(x_scaled, columns=X_train_No.columns)\n"
      ],
      "execution_count": 0,
      "outputs": []
    },
    {
      "metadata": {
        "id": "CZ6Lrcf3wzEe",
        "colab_type": "code",
        "colab": {}
      },
      "cell_type": "code",
      "source": [
        "x = X_test.values #returns a numpy array\n",
        "min_max_scaler_test = preprocessing.MinMaxScaler()\n",
        "x_scaled = min_max_scaler_test.fit_transform(x)\n",
        "X_test_scaled = pd.DataFrame(x_scaled, columns=X_test.columns)"
      ],
      "execution_count": 0,
      "outputs": []
    },
    {
      "metadata": {
        "id": "ERZl-zDSxHMd",
        "colab_type": "text"
      },
      "cell_type": "markdown",
      "source": [
        "Training Autoencoders"
      ]
    },
    {
      "metadata": {
        "id": "8I6SsOd6wzBq",
        "colab_type": "code",
        "colab": {}
      },
      "cell_type": "code",
      "source": [
        "input_dim = X_train_No_scaled.shape[1]\n",
        "encoding_dim = 15\n"
      ],
      "execution_count": 0,
      "outputs": []
    },
    {
      "metadata": {
        "id": "c9hpY1WsxV7e",
        "colab_type": "text"
      },
      "cell_type": "markdown",
      "source": [
        "Simple autoencoder: similar to \"Fraud Detection Exercise\""
      ]
    },
    {
      "metadata": {
        "id": "LSRvELf9wy-y",
        "colab_type": "code",
        "colab": {}
      },
      "cell_type": "code",
      "source": [
        "autoencoder = Sequential()\n",
        "\n",
        "autoencoder.add(Dropout(0.2, input_shape=(input_dim,)))\n",
        "autoencoder.add(Dense(encoding_dim, activation='relu'))\n",
        "autoencoder.add(Dense(input_dim, activation='linear'))"
      ],
      "execution_count": 0,
      "outputs": []
    },
    {
      "metadata": {
        "id": "SYtz_zJXwy7H",
        "colab_type": "code",
        "colab": {}
      },
      "cell_type": "code",
      "source": [
        "nb_epoch = 40\n",
        "batch_size = 32\n",
        "\n",
        "autoencoder.compile(optimizer='adam', \n",
        "                    loss='mean_squared_error', \n",
        "                    metrics=['mse'])"
      ],
      "execution_count": 0,
      "outputs": []
    },
    {
      "metadata": {
        "id": "2j9RiABhwy2r",
        "colab_type": "code",
        "colab": {
          "base_uri": "https://localhost:8080/",
          "height": 2077
        },
        "outputId": "4d39188b-8626-40d7-d504-cf45c6e62a94"
      },
      "cell_type": "code",
      "source": [
        "hist = []\n",
        "training_loss = []\n",
        "val_loss = []\n",
        "\n",
        "for _ in range(nb_epoch):\n",
        "    history = autoencoder.fit(X_train_No_scaled, X_train_No_scaled,\n",
        "                    epochs=1,\n",
        "                    batch_size=batch_size,\n",
        "                    shuffle=True,\n",
        "                     validation_split=0.3,\n",
        "                    verbose=1)\n",
        "#     print(type(history.history['loss']))\n",
        "    \n",
        "    hist.append(history)\n",
        "    \n",
        "    training_loss.append(history.history['loss'])\n",
        "    val_loss.append(history.history['val_loss'])"
      ],
      "execution_count": 105,
      "outputs": [
        {
          "output_type": "stream",
          "text": [
            "Train on 28110 samples, validate on 12048 samples\n",
            "Epoch 1/1\n",
            "28110/28110 [==============================] - 2s 72us/step - loss: 0.0427 - mean_squared_error: 0.0427 - val_loss: 0.0097 - val_mean_squared_error: 0.0097\n",
            "Train on 28110 samples, validate on 12048 samples\n",
            "Epoch 1/1\n",
            "28110/28110 [==============================] - 1s 53us/step - loss: 0.0139 - mean_squared_error: 0.0139 - val_loss: 0.0072 - val_mean_squared_error: 0.0072\n",
            "Train on 28110 samples, validate on 12048 samples\n",
            "Epoch 1/1\n",
            "28110/28110 [==============================] - 2s 54us/step - loss: 0.0115 - mean_squared_error: 0.0115 - val_loss: 0.0058 - val_mean_squared_error: 0.0058\n",
            "Train on 28110 samples, validate on 12048 samples\n",
            "Epoch 1/1\n",
            "28110/28110 [==============================] - 2s 54us/step - loss: 0.0105 - mean_squared_error: 0.0105 - val_loss: 0.0050 - val_mean_squared_error: 0.0050\n",
            "Train on 28110 samples, validate on 12048 samples\n",
            "Epoch 1/1\n",
            "28110/28110 [==============================] - 1s 53us/step - loss: 0.0102 - mean_squared_error: 0.0102 - val_loss: 0.0046 - val_mean_squared_error: 0.0046\n",
            "Train on 28110 samples, validate on 12048 samples\n",
            "Epoch 1/1\n",
            "28110/28110 [==============================] - 1s 53us/step - loss: 0.0099 - mean_squared_error: 0.0099 - val_loss: 0.0044 - val_mean_squared_error: 0.0044\n",
            "Train on 28110 samples, validate on 12048 samples\n",
            "Epoch 1/1\n",
            "28110/28110 [==============================] - 1s 53us/step - loss: 0.0099 - mean_squared_error: 0.0099 - val_loss: 0.0043 - val_mean_squared_error: 0.0043\n",
            "Train on 28110 samples, validate on 12048 samples\n",
            "Epoch 1/1\n",
            "28110/28110 [==============================] - 1s 53us/step - loss: 0.0097 - mean_squared_error: 0.0097 - val_loss: 0.0041 - val_mean_squared_error: 0.0041\n",
            "Train on 28110 samples, validate on 12048 samples\n",
            "Epoch 1/1\n",
            "28110/28110 [==============================] - 2s 54us/step - loss: 0.0097 - mean_squared_error: 0.0097 - val_loss: 0.0039 - val_mean_squared_error: 0.0039\n",
            "Train on 28110 samples, validate on 12048 samples\n",
            "Epoch 1/1\n",
            "28110/28110 [==============================] - 2s 54us/step - loss: 0.0094 - mean_squared_error: 0.0094 - val_loss: 0.0040 - val_mean_squared_error: 0.0040\n",
            "Train on 28110 samples, validate on 12048 samples\n",
            "Epoch 1/1\n",
            "28110/28110 [==============================] - 1s 53us/step - loss: 0.0094 - mean_squared_error: 0.0094 - val_loss: 0.0039 - val_mean_squared_error: 0.0039\n",
            "Train on 28110 samples, validate on 12048 samples\n",
            "Epoch 1/1\n",
            "28110/28110 [==============================] - 1s 53us/step - loss: 0.0094 - mean_squared_error: 0.0094 - val_loss: 0.0039 - val_mean_squared_error: 0.0039\n",
            "Train on 28110 samples, validate on 12048 samples\n",
            "Epoch 1/1\n",
            "28110/28110 [==============================] - 1s 53us/step - loss: 0.0092 - mean_squared_error: 0.0092 - val_loss: 0.0038 - val_mean_squared_error: 0.0038\n",
            "Train on 28110 samples, validate on 12048 samples\n",
            "Epoch 1/1\n",
            "28110/28110 [==============================] - 2s 53us/step - loss: 0.0088 - mean_squared_error: 0.0088 - val_loss: 0.0037 - val_mean_squared_error: 0.0037\n",
            "Train on 28110 samples, validate on 12048 samples\n",
            "Epoch 1/1\n",
            "28110/28110 [==============================] - 1s 53us/step - loss: 0.0084 - mean_squared_error: 0.0084 - val_loss: 0.0039 - val_mean_squared_error: 0.0039\n",
            "Train on 28110 samples, validate on 12048 samples\n",
            "Epoch 1/1\n",
            "28110/28110 [==============================] - 2s 54us/step - loss: 0.0081 - mean_squared_error: 0.0081 - val_loss: 0.0041 - val_mean_squared_error: 0.0041\n",
            "Train on 28110 samples, validate on 12048 samples\n",
            "Epoch 1/1\n",
            "28110/28110 [==============================] - 1s 53us/step - loss: 0.0082 - mean_squared_error: 0.0082 - val_loss: 0.0041 - val_mean_squared_error: 0.0041\n",
            "Train on 28110 samples, validate on 12048 samples\n",
            "Epoch 1/1\n",
            "28110/28110 [==============================] - 1s 53us/step - loss: 0.0080 - mean_squared_error: 0.0080 - val_loss: 0.0046 - val_mean_squared_error: 0.0046\n",
            "Train on 28110 samples, validate on 12048 samples\n",
            "Epoch 1/1\n",
            "28110/28110 [==============================] - 1s 53us/step - loss: 0.0080 - mean_squared_error: 0.0080 - val_loss: 0.0048 - val_mean_squared_error: 0.0048\n",
            "Train on 28110 samples, validate on 12048 samples\n",
            "Epoch 1/1\n",
            "28110/28110 [==============================] - 1s 53us/step - loss: 0.0081 - mean_squared_error: 0.0081 - val_loss: 0.0043 - val_mean_squared_error: 0.0043\n",
            "Train on 28110 samples, validate on 12048 samples\n",
            "Epoch 1/1\n",
            "28110/28110 [==============================] - 1s 53us/step - loss: 0.0082 - mean_squared_error: 0.0082 - val_loss: 0.0044 - val_mean_squared_error: 0.0044\n",
            "Train on 28110 samples, validate on 12048 samples\n",
            "Epoch 1/1\n",
            "28110/28110 [==============================] - 1s 53us/step - loss: 0.0079 - mean_squared_error: 0.0079 - val_loss: 0.0046 - val_mean_squared_error: 0.0046\n",
            "Train on 28110 samples, validate on 12048 samples\n",
            "Epoch 1/1\n",
            "28110/28110 [==============================] - 1s 53us/step - loss: 0.0078 - mean_squared_error: 0.0078 - val_loss: 0.0047 - val_mean_squared_error: 0.0047\n",
            "Train on 28110 samples, validate on 12048 samples\n",
            "Epoch 1/1\n",
            "28110/28110 [==============================] - 1s 53us/step - loss: 0.0080 - mean_squared_error: 0.0080 - val_loss: 0.0047 - val_mean_squared_error: 0.0047\n",
            "Train on 28110 samples, validate on 12048 samples\n",
            "Epoch 1/1\n",
            "28110/28110 [==============================] - 1s 53us/step - loss: 0.0079 - mean_squared_error: 0.0079 - val_loss: 0.0044 - val_mean_squared_error: 0.0044\n",
            "Train on 28110 samples, validate on 12048 samples\n",
            "Epoch 1/1\n",
            "28110/28110 [==============================] - 1s 53us/step - loss: 0.0080 - mean_squared_error: 0.0080 - val_loss: 0.0042 - val_mean_squared_error: 0.0042\n",
            "Train on 28110 samples, validate on 12048 samples\n",
            "Epoch 1/1\n",
            "28110/28110 [==============================] - 1s 53us/step - loss: 0.0078 - mean_squared_error: 0.0078 - val_loss: 0.0042 - val_mean_squared_error: 0.0042\n",
            "Train on 28110 samples, validate on 12048 samples\n",
            "Epoch 1/1\n",
            "28110/28110 [==============================] - 2s 53us/step - loss: 0.0078 - mean_squared_error: 0.0078 - val_loss: 0.0044 - val_mean_squared_error: 0.0044\n",
            "Train on 28110 samples, validate on 12048 samples\n",
            "Epoch 1/1\n",
            "28110/28110 [==============================] - 1s 53us/step - loss: 0.0079 - mean_squared_error: 0.0079 - val_loss: 0.0047 - val_mean_squared_error: 0.0047\n",
            "Train on 28110 samples, validate on 12048 samples\n",
            "Epoch 1/1\n",
            "28110/28110 [==============================] - 1s 53us/step - loss: 0.0079 - mean_squared_error: 0.0079 - val_loss: 0.0044 - val_mean_squared_error: 0.0044\n",
            "Train on 28110 samples, validate on 12048 samples\n",
            "Epoch 1/1\n",
            "28110/28110 [==============================] - 1s 53us/step - loss: 0.0077 - mean_squared_error: 0.0077 - val_loss: 0.0042 - val_mean_squared_error: 0.0042\n",
            "Train on 28110 samples, validate on 12048 samples\n",
            "Epoch 1/1\n",
            "28110/28110 [==============================] - 2s 54us/step - loss: 0.0077 - mean_squared_error: 0.0077 - val_loss: 0.0043 - val_mean_squared_error: 0.0043\n",
            "Train on 28110 samples, validate on 12048 samples\n",
            "Epoch 1/1\n",
            "28110/28110 [==============================] - 1s 53us/step - loss: 0.0077 - mean_squared_error: 0.0077 - val_loss: 0.0044 - val_mean_squared_error: 0.0044\n",
            "Train on 28110 samples, validate on 12048 samples\n",
            "Epoch 1/1\n",
            "28110/28110 [==============================] - 1s 53us/step - loss: 0.0079 - mean_squared_error: 0.0079 - val_loss: 0.0040 - val_mean_squared_error: 0.0040\n",
            "Train on 28110 samples, validate on 12048 samples\n",
            "Epoch 1/1\n",
            "28110/28110 [==============================] - 2s 53us/step - loss: 0.0076 - mean_squared_error: 0.0076 - val_loss: 0.0042 - val_mean_squared_error: 0.0042\n",
            "Train on 28110 samples, validate on 12048 samples\n",
            "Epoch 1/1\n",
            "28110/28110 [==============================] - 1s 53us/step - loss: 0.0075 - mean_squared_error: 0.0075 - val_loss: 0.0044 - val_mean_squared_error: 0.0044\n",
            "Train on 28110 samples, validate on 12048 samples\n",
            "Epoch 1/1\n",
            "28110/28110 [==============================] - 2s 54us/step - loss: 0.0076 - mean_squared_error: 0.0076 - val_loss: 0.0046 - val_mean_squared_error: 0.0046\n",
            "Train on 28110 samples, validate on 12048 samples\n",
            "Epoch 1/1\n",
            "28110/28110 [==============================] - 1s 53us/step - loss: 0.0077 - mean_squared_error: 0.0077 - val_loss: 0.0041 - val_mean_squared_error: 0.0041\n",
            "Train on 28110 samples, validate on 12048 samples\n",
            "Epoch 1/1\n",
            "28110/28110 [==============================] - 1s 53us/step - loss: 0.0078 - mean_squared_error: 0.0078 - val_loss: 0.0039 - val_mean_squared_error: 0.0039\n",
            "Train on 28110 samples, validate on 12048 samples\n",
            "Epoch 1/1\n",
            "28110/28110 [==============================] - 1s 53us/step - loss: 0.0077 - mean_squared_error: 0.0077 - val_loss: 0.0043 - val_mean_squared_error: 0.0043\n"
          ],
          "name": "stdout"
        }
      ]
    },
    {
      "metadata": {
        "id": "8gI90ZMG-EQz",
        "colab_type": "code",
        "colab": {
          "base_uri": "https://localhost:8080/",
          "height": 361
        },
        "outputId": "45af0247-9879-4923-f185-efbb57baa74a"
      },
      "cell_type": "code",
      "source": [
        "# Create count of the number of epochs\n",
        "epoch_count = range(1, len(training_loss) + 1)\n",
        "\n",
        "# Visualize loss history\n",
        "plt.plot(epoch_count, training_loss, 'r--')\n",
        "plt.plot(epoch_count, val_loss, 'b-')\n",
        "plt.legend(['Training Loss', 'Validation Loss'])\n",
        "plt.xlabel('Epoch')\n",
        "plt.ylabel('Loss')\n",
        "plt.show();"
      ],
      "execution_count": 107,
      "outputs": [
        {
          "output_type": "display_data",
          "data": {
            "image/png": "[encoded data removed]",
            "text/plain": [
              "<matplotlib.figure.Figure at 0x7f01a71ef860>"
            ]
          },
          "metadata": {
            "tags": []
          }
        }
      ]
    },
    {
      "metadata": {
        "id": "kN3R2XvIxiT0",
        "colab_type": "text"
      },
      "cell_type": "markdown",
      "source": [
        "Fitting slightly complex autoencoder architecture"
      ]
    },
    {
      "metadata": {
        "id": "S8aGBP-Qwyx-",
        "colab_type": "code",
        "colab": {}
      },
      "cell_type": "code",
      "source": [
        "autoencoder = Sequential()\n",
        "\n",
        "autoencoder.add(Dropout(0.2, input_shape=(input_dim,)))\n",
        "autoencoder.add(Dense(encoding_dim, activation='relu'))\n",
        "autoencoder.add(Dense(int(encoding_dim / 2), activation='relu'))\n",
        "autoencoder.add(Dense(encoding_dim, activation='relu'))\n",
        "autoencoder.add(Dense(input_dim, activation='linear'))"
      ],
      "execution_count": 0,
      "outputs": []
    },
    {
      "metadata": {
        "id": "ZSPPU9VIxpLr",
        "colab_type": "code",
        "colab": {}
      },
      "cell_type": "code",
      "source": [
        "nb_epoch = 15\n",
        "batch_size = 32\n",
        "\n",
        "autoencoder.compile(optimizer='adam', \n",
        "                    loss='mean_squared_error', \n",
        "                    metrics=['mse'])"
      ],
      "execution_count": 0,
      "outputs": []
    },
    {
      "metadata": {
        "id": "xAmG64rJxpIa",
        "colab_type": "code",
        "colab": {
          "base_uri": "https://localhost:8080/",
          "height": 802
        },
        "outputId": "6f7c9ba0-229f-4c65-b0f8-4b42a997454b"
      },
      "cell_type": "code",
      "source": [
        "hist = []\n",
        "training_loss = []\n",
        "val_loss = []\n",
        "\n",
        "for _ in range(nb_epoch):\n",
        "    history = autoencoder.fit(X_train_No_scaled, X_train_No_scaled,\n",
        "                    epochs=1,\n",
        "                    batch_size=batch_size,\n",
        "                    shuffle=True,\n",
        "                     validation_split=0.3,\n",
        "                    verbose=1)\n",
        "#     print(type(history.history['loss']))\n",
        "    \n",
        "    hist.append(history)\n",
        "    \n",
        "    training_loss.append(history.history['loss'])\n",
        "    val_loss.append(history.history['val_loss'])"
      ],
      "execution_count": 114,
      "outputs": [
        {
          "output_type": "stream",
          "text": [
            "Train on 28110 samples, validate on 12048 samples\n",
            "Epoch 1/1\n",
            "28110/28110 [==============================] - 2s 86us/step - loss: 0.0443 - mean_squared_error: 0.0443 - val_loss: 0.0144 - val_mean_squared_error: 0.0144\n",
            "Train on 28110 samples, validate on 12048 samples\n",
            "Epoch 1/1\n",
            "28110/28110 [==============================] - 2s 59us/step - loss: 0.0156 - mean_squared_error: 0.0156 - val_loss: 0.0092 - val_mean_squared_error: 0.0092\n",
            "Train on 28110 samples, validate on 12048 samples\n",
            "Epoch 1/1\n",
            "28110/28110 [==============================] - 2s 59us/step - loss: 0.0134 - mean_squared_error: 0.0134 - val_loss: 0.0089 - val_mean_squared_error: 0.0089\n",
            "Train on 28110 samples, validate on 12048 samples\n",
            "Epoch 1/1\n",
            "28110/28110 [==============================] - 2s 59us/step - loss: 0.0129 - mean_squared_error: 0.0129 - val_loss: 0.0085 - val_mean_squared_error: 0.0085\n",
            "Train on 28110 samples, validate on 12048 samples\n",
            "Epoch 1/1\n",
            "28110/28110 [==============================] - 2s 59us/step - loss: 0.0126 - mean_squared_error: 0.0126 - val_loss: 0.0082 - val_mean_squared_error: 0.0082\n",
            "Train on 28110 samples, validate on 12048 samples\n",
            "Epoch 1/1\n",
            "28110/28110 [==============================] - 2s 59us/step - loss: 0.0121 - mean_squared_error: 0.0121 - val_loss: 0.0078 - val_mean_squared_error: 0.0078\n",
            "Train on 28110 samples, validate on 12048 samples\n",
            "Epoch 1/1\n",
            "28110/28110 [==============================] - 2s 63us/step - loss: 0.0114 - mean_squared_error: 0.0114 - val_loss: 0.0071 - val_mean_squared_error: 0.0071\n",
            "Train on 28110 samples, validate on 12048 samples\n",
            "Epoch 1/1\n",
            "28110/28110 [==============================] - 2s 66us/step - loss: 0.0105 - mean_squared_error: 0.0105 - val_loss: 0.0069 - val_mean_squared_error: 0.0069\n",
            "Train on 28110 samples, validate on 12048 samples\n",
            "Epoch 1/1\n",
            "28110/28110 [==============================] - 2s 66us/step - loss: 0.0100 - mean_squared_error: 0.0100 - val_loss: 0.0068 - val_mean_squared_error: 0.0068\n",
            "Train on 28110 samples, validate on 12048 samples\n",
            "Epoch 1/1\n",
            "28110/28110 [==============================] - 2s 66us/step - loss: 0.0097 - mean_squared_error: 0.0097 - val_loss: 0.0070 - val_mean_squared_error: 0.0070\n",
            "Train on 28110 samples, validate on 12048 samples\n",
            "Epoch 1/1\n",
            "28110/28110 [==============================] - 2s 66us/step - loss: 0.0096 - mean_squared_error: 0.0096 - val_loss: 0.0063 - val_mean_squared_error: 0.0063\n",
            "Train on 28110 samples, validate on 12048 samples\n",
            "Epoch 1/1\n",
            "28110/28110 [==============================] - 2s 66us/step - loss: 0.0094 - mean_squared_error: 0.0094 - val_loss: 0.0068 - val_mean_squared_error: 0.0068\n",
            "Train on 28110 samples, validate on 12048 samples\n",
            "Epoch 1/1\n",
            "28110/28110 [==============================] - 2s 64us/step - loss: 0.0093 - mean_squared_error: 0.0093 - val_loss: 0.0063 - val_mean_squared_error: 0.0063\n",
            "Train on 28110 samples, validate on 12048 samples\n",
            "Epoch 1/1\n",
            "28110/28110 [==============================] - 2s 65us/step - loss: 0.0090 - mean_squared_error: 0.0090 - val_loss: 0.0055 - val_mean_squared_error: 0.0055\n",
            "Train on 28110 samples, validate on 12048 samples\n",
            "Epoch 1/1\n",
            "28110/28110 [==============================] - 2s 66us/step - loss: 0.0089 - mean_squared_error: 0.0089 - val_loss: 0.0055 - val_mean_squared_error: 0.0055\n"
          ],
          "name": "stdout"
        }
      ]
    },
    {
      "metadata": {
        "id": "dXWgaW79B5Mv",
        "colab_type": "code",
        "colab": {
          "base_uri": "https://localhost:8080/",
          "height": 361
        },
        "outputId": "d8d0a245-6f2d-4399-a241-261baf6f2f3e"
      },
      "cell_type": "code",
      "source": [
        "# Create count of the number of epochs\n",
        "epoch_count = range(1, len(training_loss) + 1)\n",
        "\n",
        "# Visualize loss history\n",
        "plt.plot(epoch_count, training_loss, 'r--')\n",
        "plt.plot(epoch_count, val_loss, 'b-')\n",
        "plt.legend(['Training Loss', 'Validation Loss'])\n",
        "plt.xlabel('Epoch')\n",
        "plt.ylabel('Loss')\n",
        "plt.show();"
      ],
      "execution_count": 115,
      "outputs": [
        {
          "output_type": "display_data",
          "data": {
            "image/png": "[encoded data removed]",
            "text/plain": [
              "<matplotlib.figure.Figure at 0x7f01a6cd2128>"
            ]
          },
          "metadata": {
            "tags": []
          }
        }
      ]
    },
    {
      "metadata": {
        "id": "x4kflRLDyjjE",
        "colab_type": "text"
      },
      "cell_type": "markdown",
      "source": [
        "Testing is the trained autoencoder is able to differentiate between classes"
      ]
    },
    {
      "metadata": {
        "id": "nc0zNsvuxpDn",
        "colab_type": "code",
        "colab": {}
      },
      "cell_type": "code",
      "source": [
        "x_tr_inv = min_max_scaler_train.inverse_transform(X_train_No_scaled)\n",
        "X_train_No_Unscaled = pd.DataFrame(x_tr_inv, columns=X_train_No_scaled.columns)\n",
        "x_test_inv = min_max_scaler_test.inverse_transform(X_test_scaled)\n",
        "X_test_Unscaled = pd.DataFrame(x_test_inv, columns=X_test_scaled.columns)"
      ],
      "execution_count": 0,
      "outputs": []
    },
    {
      "metadata": {
        "id": "MeNbATq_xpB1",
        "colab_type": "code",
        "colab": {
          "base_uri": "https://localhost:8080/",
          "height": 50
        },
        "outputId": "77a27425-f3c0-4845-dce4-f555c0967e4f"
      },
      "cell_type": "code",
      "source": [
        "y_test1 = pd.DataFrame(y_test)\n",
        "\n",
        "df1= X_test_Unscaled\n",
        "y_test1 = y_test1.set_index(df1.index)\n",
        "df1['went_on_backorder'] = y_test1.iloc[:,0].values\n",
        "\n",
        "\n",
        "test_yes=df1.loc[df1[\"went_on_backorder\"] == \"Yes\"]\n",
        "print(test_yes.shape)\n",
        "\n",
        "test_no=df1.loc[df1[\"went_on_backorder\"] == \"No\"]\n",
        "print(test_no.shape)"
      ],
      "execution_count": 31,
      "outputs": [
        {
          "output_type": "stream",
          "text": [
            "(9039, 28)\n",
            "(8105, 28)\n"
          ],
          "name": "stdout"
        }
      ]
    },
    {
      "metadata": {
        "id": "S42e5b4_xo-l",
        "colab_type": "code",
        "colab": {
          "base_uri": "https://localhost:8080/",
          "height": 51
        },
        "outputId": "055a4f59-68f8-4310-916a-061b21bc0ffe"
      },
      "cell_type": "code",
      "source": [
        "#Getting the errors from the went_on_order = 'no' data separately \n",
        "autoencoder.evaluate(test_no.iloc[:,:-1],test_no.iloc[:,:-1])"
      ],
      "execution_count": 145,
      "outputs": [
        {
          "output_type": "stream",
          "text": [
            "8105/8105 [==============================] - 0s 36us/step\n"
          ],
          "name": "stdout"
        },
        {
          "output_type": "execute_result",
          "data": {
            "text/plain": [
              "[91.43305254117858, 91.43305254117858]"
            ]
          },
          "metadata": {
            "tags": []
          },
          "execution_count": 145
        }
      ]
    },
    {
      "metadata": {
        "id": "1q5uF2OExo7Y",
        "colab_type": "code",
        "colab": {
          "base_uri": "https://localhost:8080/",
          "height": 51
        },
        "outputId": "fce1a19b-8cca-4061-92e7-14be4c24ae45"
      },
      "cell_type": "code",
      "source": [
        "#Getting the errors from the non fraud data separately \n",
        "autoencoder.evaluate(test_yes.iloc[:,:-1],test_yes.iloc[:,:-1])"
      ],
      "execution_count": 146,
      "outputs": [
        {
          "output_type": "stream",
          "text": [
            "9039/9039 [==============================] - 0s 37us/step\n"
          ],
          "name": "stdout"
        },
        {
          "output_type": "execute_result",
          "data": {
            "text/plain": [
              "[195.11564041679577, 195.11564041679577]"
            ]
          },
          "metadata": {
            "tags": []
          },
          "execution_count": 146
        }
      ]
    },
    {
      "metadata": {
        "id": "nD6giWi1y2lK",
        "colab_type": "code",
        "colab": {}
      },
      "cell_type": "code",
      "source": [
        "#Obtaining predictions for non fraud records\n",
        "predictions_no=autoencoder.predict(test_no.iloc[:,:-1])\n",
        "predictions_yes=autoencoder.predict(test_yes.iloc[:,:-1])                                              "
      ],
      "execution_count": 0,
      "outputs": []
    },
    {
      "metadata": {
        "id": "GmTIxnrVzfKy",
        "colab_type": "code",
        "colab": {
          "base_uri": "https://localhost:8080/",
          "height": 119
        },
        "outputId": "0759dbbd-3153-43ee-dfad-df9c88751ba9"
      },
      "cell_type": "code",
      "source": [
        "#Computing errors on the non-fraud data\n",
        "errors_no = np.mean(np.square(np.abs(test_no.iloc[:,:-1]-predictions_no)), axis=1)\n",
        "errors_no[0:5]"
      ],
      "execution_count": 148,
      "outputs": [
        {
          "output_type": "execute_result",
          "data": {
            "text/plain": [
              "0      31.513182\n",
              "2       0.113370\n",
              "5     406.367704\n",
              "10    345.111207\n",
              "15      6.836983\n",
              "dtype: float64"
            ]
          },
          "metadata": {
            "tags": []
          },
          "execution_count": 148
        }
      ]
    },
    {
      "metadata": {
        "id": "1MIk9pSSy2hq",
        "colab_type": "code",
        "colab": {
          "base_uri": "https://localhost:8080/",
          "height": 119
        },
        "outputId": "ad4a3a97-25fe-4b93-9891-da933d830505"
      },
      "cell_type": "code",
      "source": [
        "#Computing errors on the non-fraud data\n",
        "errors_yes = np.mean(np.square(np.abs(test_yes.iloc[:,:-1]-predictions_yes)), axis=1)\n",
        "errors_yes[0:5]"
      ],
      "execution_count": 149,
      "outputs": [
        {
          "output_type": "execute_result",
          "data": {
            "text/plain": [
              "1      2.656642\n",
              "3     30.592928\n",
              "4      5.750629\n",
              "6    241.746106\n",
              "7    245.603599\n",
              "dtype: float64"
            ]
          },
          "metadata": {
            "tags": []
          },
          "execution_count": 149
        }
      ]
    },
    {
      "metadata": {
        "id": "Ql7QEM4ly2fa",
        "colab_type": "code",
        "colab": {
          "base_uri": "https://localhost:8080/",
          "height": 119
        },
        "outputId": "a7c72aaf-87ad-4be3-d630-b49e26e609a1"
      },
      "cell_type": "code",
      "source": [
        "#Computing the distribution of errors in both non-fraud and fraud data\n",
        "print(np.min(errors_no))\n",
        "print(np.max(errors_no))\n",
        "print(np.median(errors_no))\n",
        "\n",
        "print(np.min(errors_yes))\n",
        "print(np.max(errors_yes))\n",
        "print(np.median(errors_yes))"
      ],
      "execution_count": 150,
      "outputs": [
        {
          "output_type": "stream",
          "text": [
            "0.007808775834683409\n",
            "95401.72910181973\n",
            "7.234021775123129\n",
            "0.019357049639780504\n",
            "335100.5882233833\n",
            "21.116020287832587\n"
          ],
          "name": "stdout"
        }
      ]
    },
    {
      "metadata": {
        "id": "f7U_KSD1y2cH",
        "colab_type": "code",
        "colab": {
          "base_uri": "https://localhost:8080/",
          "height": 404
        },
        "outputId": "3a0fdaa8-d771-4a5c-f2f3-733d7e46beb9"
      },
      "cell_type": "code",
      "source": [
        "#PLotting the error box plots \n",
        "plt.subplot(1, 2, 1)\n",
        "sns.boxplot(y=errors_yes)\n",
        "\n",
        "\n",
        "plt.subplot(1, 2, 2)\n",
        "sns.boxplot(y=errors_no)"
      ],
      "execution_count": 151,
      "outputs": [
        {
          "output_type": "stream",
          "text": [
            "/usr/local/lib/python3.6/dist-packages/seaborn/categorical.py:454: FutureWarning: remove_na is deprecated and is a private function. Do not use.\n",
            "  box_data = remove_na(group_data)\n"
          ],
          "name": "stderr"
        },
        {
          "output_type": "execute_result",
          "data": {
            "text/plain": [
              "<matplotlib.axes._subplots.AxesSubplot at 0x7f01a498afd0>"
            ]
          },
          "metadata": {
            "tags": []
          },
          "execution_count": 151
        },
        {
          "output_type": "display_data",
          "data": {
            "image/png": "[encoded data removed]",
            "text/plain": [
              "<matplotlib.figure.Figure at 0x7f01a5f364e0>"
            ]
          },
          "metadata": {
            "tags": []
          }
        }
      ]
    },
    {
      "metadata": {
        "id": "Ms3s8IULzmo3",
        "colab_type": "code",
        "colab": {
          "base_uri": "https://localhost:8080/",
          "height": 357
        },
        "outputId": "5fe30d27-5916-4440-e327-9f313b3d75a4"
      },
      "cell_type": "code",
      "source": [
        "print(errors_yes.quantile(np.linspace(.1, 1, 9, 0)))\n",
        "print(errors_no.quantile(np.linspace(.1, 1, 9, 0)))"
      ],
      "execution_count": 152,
      "outputs": [
        {
          "output_type": "stream",
          "text": [
            "0.1      1.506680\n",
            "0.2      3.599290\n",
            "0.3      6.159812\n",
            "0.4     11.225965\n",
            "0.5     21.116020\n",
            "0.6     39.933883\n",
            "0.7     74.998334\n",
            "0.8    141.799857\n",
            "0.9    259.898439\n",
            "dtype: float64\n",
            "0.1      0.958480\n",
            "0.2      1.853876\n",
            "0.3      3.834726\n",
            "0.4      5.416584\n",
            "0.5      7.234022\n",
            "0.6     16.182710\n",
            "0.7     39.668759\n",
            "0.8    107.429438\n",
            "0.9    277.791424\n",
            "dtype: float64\n"
          ],
          "name": "stdout"
        }
      ]
    },
    {
      "metadata": {
        "id": "ZVVmPeL8EHeH",
        "colab_type": "text"
      },
      "cell_type": "markdown",
      "source": [
        "Implementing autoencoders with hyperparameters Dropout with Maxnorm Constraints and Batch\n",
        "Normalization"
      ]
    },
    {
      "metadata": {
        "id": "ptrphMdUzmnD",
        "colab_type": "code",
        "colab": {}
      },
      "cell_type": "code",
      "source": [
        "autoencoder = Sequential()\n",
        "\n",
        "autoencoder.add(Dropout(0.2, input_shape=(input_dim,)))\n",
        "autoencoder.add(Dense(encoding_dim, activation='tanh', activity_regularizer=regularizers.l1(10e-5)))\n",
        "# autoencoder.add(BatchNormalization())\n",
        "autoencoder.add(Dropout(0.2))\n",
        "autoencoder.add(Dense(int(encoding_dim / 2), activation='relu', kernel_constraint=maxnorm(3)))\n",
        "autoencoder.add(BatchNormalization())\n",
        "# autoencoder.add(Dropout(0.2))\n",
        "autoencoder.add(Dense(encoding_dim, activation='tanh'))\n",
        "# autoencoder.add(BatchNormalization())\n",
        "autoencoder.add(Dense(input_dim, activation='linear'))"
      ],
      "execution_count": 0,
      "outputs": []
    },
    {
      "metadata": {
        "id": "wj9KDh2izmjS",
        "colab_type": "code",
        "colab": {}
      },
      "cell_type": "code",
      "source": [
        "autoencoder = Sequential()\n",
        "\n",
        "autoencoder.add(Dropout(0.2, input_shape=(input_dim,)))\n",
        "autoencoder.add(Dense(encoding_dim, activation='relu', kernel_constraint=maxnorm(3)))\n",
        "autoencoder.add(BatchNormalization())\n",
        "autoencoder.add(Dropout(0.2))\n",
        "autoencoder.add(Dense(int(encoding_dim / 2), activation='relu', kernel_constraint=maxnorm(3)))\n",
        "autoencoder.add(BatchNormalization())\n",
        "# autoencoder.add(Dropout(0.2))\n",
        "autoencoder.add(Dense(encoding_dim, activation='relu', kernel_constraint=maxnorm(3)))\n",
        "# autoencoder.add(BatchNormalization())\n",
        "autoencoder.add(Dense(input_dim, activation='linear'))"
      ],
      "execution_count": 0,
      "outputs": []
    },
    {
      "metadata": {
        "id": "dI0e1NTTzmfn",
        "colab_type": "code",
        "colab": {}
      },
      "cell_type": "code",
      "source": [
        "nb_epoch = 80\n",
        "batch_size = 32\n",
        "\n",
        "autoencoder.compile(optimizer='adam', \n",
        "                    loss='mean_squared_error', \n",
        "                    metrics=['mse'])"
      ],
      "execution_count": 0,
      "outputs": []
    },
    {
      "metadata": {
        "id": "NEjzZDztZJX2",
        "colab_type": "code",
        "colab": {
          "base_uri": "https://localhost:8080/",
          "height": 4117
        },
        "outputId": "c2e8e006-4d84-4dc4-dbc9-78d5c60c2156"
      },
      "cell_type": "code",
      "source": [
        "hist = []\n",
        "training_loss = []\n",
        "val_loss = []\n",
        "\n",
        "for _ in range(nb_epoch):\n",
        "    history = autoencoder.fit(X_train_No_scaled, X_train_No_scaled,\n",
        "                    epochs=1,\n",
        "                    batch_size=batch_size,\n",
        "                    shuffle=True,\n",
        "                     validation_split=0.3,\n",
        "                    verbose=1)\n",
        "#     print(type(history.history['loss']))\n",
        "    \n",
        "    hist.append(history)\n",
        "    \n",
        "    training_loss.append(history.history['loss'])\n",
        "    val_loss.append(history.history['val_loss'])"
      ],
      "execution_count": 142,
      "outputs": [
        {
          "output_type": "stream",
          "text": [
            "Train on 28110 samples, validate on 12048 samples\n",
            "Epoch 1/1\n",
            "28110/28110 [==============================] - 4s 128us/step - loss: 0.0712 - mean_squared_error: 0.0712 - val_loss: 0.0160 - val_mean_squared_error: 0.0160\n",
            "Train on 28110 samples, validate on 12048 samples\n",
            "Epoch 1/1\n",
            "28110/28110 [==============================] - 2s 78us/step - loss: 0.0209 - mean_squared_error: 0.0209 - val_loss: 0.0123 - val_mean_squared_error: 0.0123\n",
            "Train on 28110 samples, validate on 12048 samples\n",
            "Epoch 1/1\n",
            "28110/28110 [==============================] - 2s 87us/step - loss: 0.0186 - mean_squared_error: 0.0186 - val_loss: 0.0122 - val_mean_squared_error: 0.0122\n",
            "Train on 28110 samples, validate on 12048 samples\n",
            "Epoch 1/1\n",
            "28110/28110 [==============================] - 2s 88us/step - loss: 0.0175 - mean_squared_error: 0.0175 - val_loss: 0.0106 - val_mean_squared_error: 0.0106\n",
            "Train on 28110 samples, validate on 12048 samples\n",
            "Epoch 1/1\n",
            "28110/28110 [==============================] - 2s 88us/step - loss: 0.0162 - mean_squared_error: 0.0162 - val_loss: 0.0090 - val_mean_squared_error: 0.0090\n",
            "Train on 28110 samples, validate on 12048 samples\n",
            "Epoch 1/1\n",
            "28110/28110 [==============================] - 2s 88us/step - loss: 0.0155 - mean_squared_error: 0.0155 - val_loss: 0.0083 - val_mean_squared_error: 0.0083\n",
            "Train on 28110 samples, validate on 12048 samples\n",
            "Epoch 1/1\n",
            "28110/28110 [==============================] - 2s 86us/step - loss: 0.0146 - mean_squared_error: 0.0146 - val_loss: 0.0076 - val_mean_squared_error: 0.0076\n",
            "Train on 28110 samples, validate on 12048 samples\n",
            "Epoch 1/1\n",
            "28110/28110 [==============================] - 2s 89us/step - loss: 0.0144 - mean_squared_error: 0.0144 - val_loss: 0.0072 - val_mean_squared_error: 0.0072\n",
            "Train on 28110 samples, validate on 12048 samples\n",
            "Epoch 1/1\n",
            "28110/28110 [==============================] - 2s 86us/step - loss: 0.0141 - mean_squared_error: 0.0141 - val_loss: 0.0069 - val_mean_squared_error: 0.0069\n",
            "Train on 28110 samples, validate on 12048 samples\n",
            "Epoch 1/1\n",
            "28110/28110 [==============================] - 2s 78us/step - loss: 0.0138 - mean_squared_error: 0.0138 - val_loss: 0.0067 - val_mean_squared_error: 0.0067\n",
            "Train on 28110 samples, validate on 12048 samples\n",
            "Epoch 1/1\n",
            "28110/28110 [==============================] - 2s 78us/step - loss: 0.0138 - mean_squared_error: 0.0138 - val_loss: 0.0066 - val_mean_squared_error: 0.0066\n",
            "Train on 28110 samples, validate on 12048 samples\n",
            "Epoch 1/1\n",
            "28110/28110 [==============================] - 2s 79us/step - loss: 0.0136 - mean_squared_error: 0.0136 - val_loss: 0.0067 - val_mean_squared_error: 0.0067\n",
            "Train on 28110 samples, validate on 12048 samples\n",
            "Epoch 1/1\n",
            "28110/28110 [==============================] - 2s 79us/step - loss: 0.0137 - mean_squared_error: 0.0137 - val_loss: 0.0063 - val_mean_squared_error: 0.0063\n",
            "Train on 28110 samples, validate on 12048 samples\n",
            "Epoch 1/1\n",
            "28110/28110 [==============================] - 2s 78us/step - loss: 0.0132 - mean_squared_error: 0.0132 - val_loss: 0.0060 - val_mean_squared_error: 0.0060\n",
            "Train on 28110 samples, validate on 12048 samples\n",
            "Epoch 1/1\n",
            "28110/28110 [==============================] - 2s 78us/step - loss: 0.0133 - mean_squared_error: 0.0133 - val_loss: 0.0061 - val_mean_squared_error: 0.0061\n",
            "Train on 28110 samples, validate on 12048 samples\n",
            "Epoch 1/1\n",
            "28110/28110 [==============================] - 2s 80us/step - loss: 0.0133 - mean_squared_error: 0.0133 - val_loss: 0.0060 - val_mean_squared_error: 0.0060\n",
            "Train on 28110 samples, validate on 12048 samples\n",
            "Epoch 1/1\n",
            "28110/28110 [==============================] - 2s 79us/step - loss: 0.0131 - mean_squared_error: 0.0131 - val_loss: 0.0060 - val_mean_squared_error: 0.0060\n",
            "Train on 28110 samples, validate on 12048 samples\n",
            "Epoch 1/1\n",
            "28110/28110 [==============================] - 2s 79us/step - loss: 0.0131 - mean_squared_error: 0.0131 - val_loss: 0.0057 - val_mean_squared_error: 0.0057\n",
            "Train on 28110 samples, validate on 12048 samples\n",
            "Epoch 1/1\n",
            "28110/28110 [==============================] - 2s 78us/step - loss: 0.0128 - mean_squared_error: 0.0128 - val_loss: 0.0060 - val_mean_squared_error: 0.0060\n",
            "Train on 28110 samples, validate on 12048 samples\n",
            "Epoch 1/1\n",
            "28110/28110 [==============================] - 2s 79us/step - loss: 0.0129 - mean_squared_error: 0.0129 - val_loss: 0.0057 - val_mean_squared_error: 0.0057\n",
            "Train on 28110 samples, validate on 12048 samples\n",
            "Epoch 1/1\n",
            "28110/28110 [==============================] - 2s 79us/step - loss: 0.0129 - mean_squared_error: 0.0129 - val_loss: 0.0057 - val_mean_squared_error: 0.0057\n",
            "Train on 28110 samples, validate on 12048 samples\n",
            "Epoch 1/1\n",
            "28110/28110 [==============================] - 2s 78us/step - loss: 0.0127 - mean_squared_error: 0.0127 - val_loss: 0.0056 - val_mean_squared_error: 0.0056\n",
            "Train on 28110 samples, validate on 12048 samples\n",
            "Epoch 1/1\n",
            "28110/28110 [==============================] - 2s 79us/step - loss: 0.0127 - mean_squared_error: 0.0127 - val_loss: 0.0057 - val_mean_squared_error: 0.0057\n",
            "Train on 28110 samples, validate on 12048 samples\n",
            "Epoch 1/1\n",
            "28110/28110 [==============================] - 2s 79us/step - loss: 0.0127 - mean_squared_error: 0.0127 - val_loss: 0.0057 - val_mean_squared_error: 0.0057\n",
            "Train on 28110 samples, validate on 12048 samples\n",
            "Epoch 1/1\n",
            "28110/28110 [==============================] - 2s 79us/step - loss: 0.0125 - mean_squared_error: 0.0125 - val_loss: 0.0056 - val_mean_squared_error: 0.0056\n",
            "Train on 28110 samples, validate on 12048 samples\n",
            "Epoch 1/1\n",
            "28110/28110 [==============================] - 2s 79us/step - loss: 0.0126 - mean_squared_error: 0.0126 - val_loss: 0.0058 - val_mean_squared_error: 0.0058\n",
            "Train on 28110 samples, validate on 12048 samples\n",
            "Epoch 1/1\n",
            "28110/28110 [==============================] - 2s 79us/step - loss: 0.0124 - mean_squared_error: 0.0124 - val_loss: 0.0056 - val_mean_squared_error: 0.0056\n",
            "Train on 28110 samples, validate on 12048 samples\n",
            "Epoch 1/1\n",
            "28110/28110 [==============================] - 2s 78us/step - loss: 0.0125 - mean_squared_error: 0.0125 - val_loss: 0.0057 - val_mean_squared_error: 0.0057\n",
            "Train on 28110 samples, validate on 12048 samples\n",
            "Epoch 1/1\n",
            "28110/28110 [==============================] - 2s 78us/step - loss: 0.0125 - mean_squared_error: 0.0125 - val_loss: 0.0057 - val_mean_squared_error: 0.0057\n",
            "Train on 28110 samples, validate on 12048 samples\n",
            "Epoch 1/1\n",
            "28110/28110 [==============================] - 2s 78us/step - loss: 0.0122 - mean_squared_error: 0.0122 - val_loss: 0.0055 - val_mean_squared_error: 0.0055\n",
            "Train on 28110 samples, validate on 12048 samples\n",
            "Epoch 1/1\n",
            "28110/28110 [==============================] - 2s 78us/step - loss: 0.0124 - mean_squared_error: 0.0124 - val_loss: 0.0055 - val_mean_squared_error: 0.0055\n",
            "Train on 28110 samples, validate on 12048 samples\n",
            "Epoch 1/1\n",
            "28110/28110 [==============================] - 2s 78us/step - loss: 0.0123 - mean_squared_error: 0.0123 - val_loss: 0.0055 - val_mean_squared_error: 0.0055\n",
            "Train on 28110 samples, validate on 12048 samples\n",
            "Epoch 1/1\n",
            "28110/28110 [==============================] - 2s 79us/step - loss: 0.0123 - mean_squared_error: 0.0123 - val_loss: 0.0056 - val_mean_squared_error: 0.0056\n",
            "Train on 28110 samples, validate on 12048 samples\n",
            "Epoch 1/1\n",
            "28110/28110 [==============================] - 2s 78us/step - loss: 0.0123 - mean_squared_error: 0.0123 - val_loss: 0.0057 - val_mean_squared_error: 0.0057\n",
            "Train on 28110 samples, validate on 12048 samples\n",
            "Epoch 1/1\n",
            "28110/28110 [==============================] - 2s 78us/step - loss: 0.0123 - mean_squared_error: 0.0123 - val_loss: 0.0055 - val_mean_squared_error: 0.0055\n",
            "Train on 28110 samples, validate on 12048 samples\n",
            "Epoch 1/1\n",
            "28110/28110 [==============================] - 2s 79us/step - loss: 0.0123 - mean_squared_error: 0.0123 - val_loss: 0.0055 - val_mean_squared_error: 0.0055\n",
            "Train on 28110 samples, validate on 12048 samples\n",
            "Epoch 1/1\n",
            "28110/28110 [==============================] - 2s 78us/step - loss: 0.0124 - mean_squared_error: 0.0124 - val_loss: 0.0056 - val_mean_squared_error: 0.0056\n",
            "Train on 28110 samples, validate on 12048 samples\n",
            "Epoch 1/1\n",
            "28110/28110 [==============================] - 2s 78us/step - loss: 0.0124 - mean_squared_error: 0.0124 - val_loss: 0.0055 - val_mean_squared_error: 0.0055\n",
            "Train on 28110 samples, validate on 12048 samples\n",
            "Epoch 1/1\n",
            "28110/28110 [==============================] - 2s 79us/step - loss: 0.0124 - mean_squared_error: 0.0124 - val_loss: 0.0056 - val_mean_squared_error: 0.0056\n",
            "Train on 28110 samples, validate on 12048 samples\n",
            "Epoch 1/1\n",
            "28110/28110 [==============================] - 2s 78us/step - loss: 0.0124 - mean_squared_error: 0.0124 - val_loss: 0.0056 - val_mean_squared_error: 0.0056\n",
            "Train on 28110 samples, validate on 12048 samples\n",
            "Epoch 1/1\n",
            "28110/28110 [==============================] - 2s 78us/step - loss: 0.0124 - mean_squared_error: 0.0124 - val_loss: 0.0056 - val_mean_squared_error: 0.0056\n",
            "Train on 28110 samples, validate on 12048 samples\n",
            "Epoch 1/1\n",
            "28110/28110 [==============================] - 2s 79us/step - loss: 0.0123 - mean_squared_error: 0.0123 - val_loss: 0.0055 - val_mean_squared_error: 0.0055\n",
            "Train on 28110 samples, validate on 12048 samples\n",
            "Epoch 1/1\n",
            "28110/28110 [==============================] - 2s 79us/step - loss: 0.0122 - mean_squared_error: 0.0122 - val_loss: 0.0056 - val_mean_squared_error: 0.0056\n",
            "Train on 28110 samples, validate on 12048 samples\n",
            "Epoch 1/1\n",
            "28110/28110 [==============================] - 2s 78us/step - loss: 0.0124 - mean_squared_error: 0.0124 - val_loss: 0.0058 - val_mean_squared_error: 0.0058\n",
            "Train on 28110 samples, validate on 12048 samples\n",
            "Epoch 1/1\n",
            "28110/28110 [==============================] - 2s 79us/step - loss: 0.0123 - mean_squared_error: 0.0123 - val_loss: 0.0054 - val_mean_squared_error: 0.0054\n",
            "Train on 28110 samples, validate on 12048 samples\n",
            "Epoch 1/1\n",
            "28110/28110 [==============================] - 2s 79us/step - loss: 0.0122 - mean_squared_error: 0.0122 - val_loss: 0.0056 - val_mean_squared_error: 0.0056\n",
            "Train on 28110 samples, validate on 12048 samples\n",
            "Epoch 1/1\n",
            "28110/28110 [==============================] - 2s 79us/step - loss: 0.0122 - mean_squared_error: 0.0122 - val_loss: 0.0054 - val_mean_squared_error: 0.0054\n",
            "Train on 28110 samples, validate on 12048 samples\n",
            "Epoch 1/1\n",
            "28110/28110 [==============================] - 2s 79us/step - loss: 0.0124 - mean_squared_error: 0.0124 - val_loss: 0.0055 - val_mean_squared_error: 0.0055\n",
            "Train on 28110 samples, validate on 12048 samples\n",
            "Epoch 1/1\n",
            "28110/28110 [==============================] - 2s 80us/step - loss: 0.0124 - mean_squared_error: 0.0124 - val_loss: 0.0053 - val_mean_squared_error: 0.0053\n",
            "Train on 28110 samples, validate on 12048 samples\n",
            "Epoch 1/1\n",
            "28110/28110 [==============================] - 2s 79us/step - loss: 0.0122 - mean_squared_error: 0.0122 - val_loss: 0.0055 - val_mean_squared_error: 0.0055\n",
            "Train on 28110 samples, validate on 12048 samples\n",
            "Epoch 1/1\n",
            "28110/28110 [==============================] - 2s 79us/step - loss: 0.0121 - mean_squared_error: 0.0121 - val_loss: 0.0054 - val_mean_squared_error: 0.0054\n",
            "Train on 28110 samples, validate on 12048 samples\n",
            "Epoch 1/1\n",
            "28110/28110 [==============================] - 2s 80us/step - loss: 0.0121 - mean_squared_error: 0.0121 - val_loss: 0.0053 - val_mean_squared_error: 0.0053\n",
            "Train on 28110 samples, validate on 12048 samples\n",
            "Epoch 1/1\n",
            "28110/28110 [==============================] - 2s 79us/step - loss: 0.0121 - mean_squared_error: 0.0121 - val_loss: 0.0053 - val_mean_squared_error: 0.0053\n",
            "Train on 28110 samples, validate on 12048 samples\n",
            "Epoch 1/1\n",
            "28110/28110 [==============================] - 2s 79us/step - loss: 0.0121 - mean_squared_error: 0.0121 - val_loss: 0.0055 - val_mean_squared_error: 0.0055\n",
            "Train on 28110 samples, validate on 12048 samples\n",
            "Epoch 1/1\n",
            "28110/28110 [==============================] - 2s 78us/step - loss: 0.0123 - mean_squared_error: 0.0123 - val_loss: 0.0054 - val_mean_squared_error: 0.0054\n",
            "Train on 28110 samples, validate on 12048 samples\n",
            "Epoch 1/1\n",
            "28110/28110 [==============================] - 2s 79us/step - loss: 0.0121 - mean_squared_error: 0.0121 - val_loss: 0.0053 - val_mean_squared_error: 0.0053\n",
            "Train on 28110 samples, validate on 12048 samples\n",
            "Epoch 1/1\n",
            "28110/28110 [==============================] - 2s 79us/step - loss: 0.0122 - mean_squared_error: 0.0122 - val_loss: 0.0054 - val_mean_squared_error: 0.0054\n",
            "Train on 28110 samples, validate on 12048 samples\n",
            "Epoch 1/1\n",
            "28110/28110 [==============================] - 2s 79us/step - loss: 0.0121 - mean_squared_error: 0.0121 - val_loss: 0.0054 - val_mean_squared_error: 0.0054\n",
            "Train on 28110 samples, validate on 12048 samples\n",
            "Epoch 1/1\n",
            "28110/28110 [==============================] - 2s 79us/step - loss: 0.0121 - mean_squared_error: 0.0121 - val_loss: 0.0055 - val_mean_squared_error: 0.0055\n",
            "Train on 28110 samples, validate on 12048 samples\n",
            "Epoch 1/1\n",
            "28110/28110 [==============================] - 2s 78us/step - loss: 0.0124 - mean_squared_error: 0.0124 - val_loss: 0.0054 - val_mean_squared_error: 0.0054\n",
            "Train on 28110 samples, validate on 12048 samples\n",
            "Epoch 1/1\n",
            "28110/28110 [==============================] - 2s 78us/step - loss: 0.0122 - mean_squared_error: 0.0122 - val_loss: 0.0054 - val_mean_squared_error: 0.0054\n",
            "Train on 28110 samples, validate on 12048 samples\n",
            "Epoch 1/1\n",
            "28110/28110 [==============================] - 2s 78us/step - loss: 0.0122 - mean_squared_error: 0.0122 - val_loss: 0.0054 - val_mean_squared_error: 0.0054\n",
            "Train on 28110 samples, validate on 12048 samples\n",
            "Epoch 1/1\n",
            "28110/28110 [==============================] - 2s 77us/step - loss: 0.0120 - mean_squared_error: 0.0120 - val_loss: 0.0054 - val_mean_squared_error: 0.0054\n",
            "Train on 28110 samples, validate on 12048 samples\n",
            "Epoch 1/1\n",
            "28110/28110 [==============================] - 2s 78us/step - loss: 0.0120 - mean_squared_error: 0.0120 - val_loss: 0.0053 - val_mean_squared_error: 0.0053\n",
            "Train on 28110 samples, validate on 12048 samples\n",
            "Epoch 1/1\n",
            "28110/28110 [==============================] - 2s 78us/step - loss: 0.0121 - mean_squared_error: 0.0121 - val_loss: 0.0054 - val_mean_squared_error: 0.0054\n",
            "Train on 28110 samples, validate on 12048 samples\n",
            "Epoch 1/1\n",
            "28110/28110 [==============================] - 2s 78us/step - loss: 0.0121 - mean_squared_error: 0.0121 - val_loss: 0.0053 - val_mean_squared_error: 0.0053\n",
            "Train on 28110 samples, validate on 12048 samples\n",
            "Epoch 1/1\n",
            "28110/28110 [==============================] - 2s 78us/step - loss: 0.0120 - mean_squared_error: 0.0120 - val_loss: 0.0053 - val_mean_squared_error: 0.0053\n",
            "Train on 28110 samples, validate on 12048 samples\n",
            "Epoch 1/1\n",
            "28110/28110 [==============================] - 2s 78us/step - loss: 0.0122 - mean_squared_error: 0.0122 - val_loss: 0.0057 - val_mean_squared_error: 0.0057\n",
            "Train on 28110 samples, validate on 12048 samples\n",
            "Epoch 1/1\n",
            "28110/28110 [==============================] - 2s 78us/step - loss: 0.0123 - mean_squared_error: 0.0123 - val_loss: 0.0056 - val_mean_squared_error: 0.0056\n",
            "Train on 28110 samples, validate on 12048 samples\n",
            "Epoch 1/1\n",
            "28110/28110 [==============================] - 2s 79us/step - loss: 0.0121 - mean_squared_error: 0.0121 - val_loss: 0.0053 - val_mean_squared_error: 0.0053\n",
            "Train on 28110 samples, validate on 12048 samples\n",
            "Epoch 1/1\n",
            "28110/28110 [==============================] - 2s 78us/step - loss: 0.0120 - mean_squared_error: 0.0120 - val_loss: 0.0054 - val_mean_squared_error: 0.0054\n",
            "Train on 28110 samples, validate on 12048 samples\n",
            "Epoch 1/1\n",
            "28110/28110 [==============================] - 2s 78us/step - loss: 0.0120 - mean_squared_error: 0.0120 - val_loss: 0.0053 - val_mean_squared_error: 0.0053\n",
            "Train on 28110 samples, validate on 12048 samples\n",
            "Epoch 1/1\n",
            "28110/28110 [==============================] - 2s 79us/step - loss: 0.0122 - mean_squared_error: 0.0122 - val_loss: 0.0053 - val_mean_squared_error: 0.0053\n",
            "Train on 28110 samples, validate on 12048 samples\n",
            "Epoch 1/1\n",
            "28110/28110 [==============================] - 2s 78us/step - loss: 0.0120 - mean_squared_error: 0.0120 - val_loss: 0.0055 - val_mean_squared_error: 0.0055\n",
            "Train on 28110 samples, validate on 12048 samples\n",
            "Epoch 1/1\n",
            "28110/28110 [==============================] - 2s 78us/step - loss: 0.0121 - mean_squared_error: 0.0121 - val_loss: 0.0053 - val_mean_squared_error: 0.0053\n",
            "Train on 28110 samples, validate on 12048 samples\n",
            "Epoch 1/1\n",
            "28110/28110 [==============================] - 2s 79us/step - loss: 0.0120 - mean_squared_error: 0.0120 - val_loss: 0.0052 - val_mean_squared_error: 0.0052\n",
            "Train on 28110 samples, validate on 12048 samples\n",
            "Epoch 1/1\n",
            "28110/28110 [==============================] - 2s 78us/step - loss: 0.0121 - mean_squared_error: 0.0121 - val_loss: 0.0055 - val_mean_squared_error: 0.0055\n",
            "Train on 28110 samples, validate on 12048 samples\n",
            "Epoch 1/1\n",
            "28110/28110 [==============================] - 2s 79us/step - loss: 0.0121 - mean_squared_error: 0.0121 - val_loss: 0.0054 - val_mean_squared_error: 0.0054\n",
            "Train on 28110 samples, validate on 12048 samples\n",
            "Epoch 1/1\n",
            "28110/28110 [==============================] - 2s 79us/step - loss: 0.0121 - mean_squared_error: 0.0121 - val_loss: 0.0055 - val_mean_squared_error: 0.0055\n",
            "Train on 28110 samples, validate on 12048 samples\n",
            "Epoch 1/1\n",
            "28110/28110 [==============================] - 2s 79us/step - loss: 0.0120 - mean_squared_error: 0.0120 - val_loss: 0.0052 - val_mean_squared_error: 0.0052\n"
          ],
          "name": "stdout"
        }
      ]
    },
    {
      "metadata": {
        "id": "IUI2oX8SZJUu",
        "colab_type": "code",
        "colab": {
          "base_uri": "https://localhost:8080/",
          "height": 361
        },
        "outputId": "85360367-58e8-4088-b7c0-9a2d19447269"
      },
      "cell_type": "code",
      "source": [
        "# Create count of the number of epochs\n",
        "epoch_count = range(1, len(training_loss) + 1)\n",
        "\n",
        "# Visualize loss history\n",
        "plt.plot(epoch_count, training_loss, 'r--')\n",
        "plt.plot(epoch_count, val_loss, 'b-')\n",
        "plt.legend(['Training Loss', 'Validation Loss'])\n",
        "plt.xlabel('Epoch')\n",
        "plt.ylabel('Loss')\n",
        "plt.show();"
      ],
      "execution_count": 139,
      "outputs": [
        {
          "output_type": "display_data",
          "data": {
            "image/png": "[encoded data removed]",
            "text/plain": [
              "<matplotlib.figure.Figure at 0x7f01a5adc278>"
            ]
          },
          "metadata": {
            "tags": []
          }
        }
      ]
    },
    {
      "metadata": {
        "id": "sk3UTaeYZJSf",
        "colab_type": "code",
        "colab": {
          "base_uri": "https://localhost:8080/",
          "height": 361
        },
        "outputId": "44f81724-4b43-449f-c03d-6dfe684a9fa7"
      },
      "cell_type": "code",
      "source": [
        "# Create count of the number of epochs\n",
        "epoch_count = range(1, len(training_loss) + 1)\n",
        "\n",
        "# Visualize loss history\n",
        "plt.plot(epoch_count, training_loss, 'r--')\n",
        "plt.plot(epoch_count, val_loss, 'b-')\n",
        "plt.legend(['Training Loss', 'Validation Loss'])\n",
        "plt.xlabel('Epoch')\n",
        "plt.ylabel('Loss')\n",
        "plt.show();"
      ],
      "execution_count": 143,
      "outputs": [
        {
          "output_type": "display_data",
          "data": {
            "image/png": "[encoded data removed]",
            "text/plain": [
              "<matplotlib.figure.Figure at 0x7f01a4ac09e8>"
            ]
          },
          "metadata": {
            "tags": []
          }
        }
      ]
    },
    {
      "metadata": {
        "id": "lsNeHreDcmH9",
        "colab_type": "text"
      },
      "cell_type": "markdown",
      "source": [
        "Experimenting with other hyperparameters\n",
        "1 - Learning rate"
      ]
    },
    {
      "metadata": {
        "id": "Q_S8a-ERcl2K",
        "colab_type": "code",
        "colab": {
          "base_uri": "https://localhost:8080/",
          "height": 50
        },
        "outputId": "cf1f480a-e33f-4b8d-b04e-0080fe0d2993"
      },
      "cell_type": "code",
      "source": [
        "lr_values = np.logspace(-4, -1, num=6)\n",
        "lr_values"
      ],
      "execution_count": 38,
      "outputs": [
        {
          "output_type": "execute_result",
          "data": {
            "text/plain": [
              "array([0.0001    , 0.00039811, 0.00158489, 0.00630957, 0.02511886,\n",
              "       0.1       ])"
            ]
          },
          "metadata": {
            "tags": []
          },
          "execution_count": 38
        }
      ]
    },
    {
      "metadata": {
        "id": "qH1acwAFO_15",
        "colab_type": "code",
        "colab": {}
      },
      "cell_type": "code",
      "source": [
        "lr_values = [0.001, 0.003, 0.006]"
      ],
      "execution_count": 0,
      "outputs": []
    },
    {
      "metadata": {
        "id": "A1wtmeb7ZJQN",
        "colab_type": "code",
        "colab": {}
      },
      "cell_type": "code",
      "source": [
        "nb_epoch = 20\n",
        "batch_size = 32\n",
        "\n",
        "def compile_fit(model, X, Y, lr_value):\n",
        "    \n",
        "    adam = optimizers.Adam(lr=lr_value)\n",
        "    \n",
        "    autoencoder.compile(optimizer=adam, \n",
        "                    loss='mean_squared_error', metrics=['mse'])\n",
        "    \n",
        "    history = autoencoder.fit(X, Y,\n",
        "                    epochs=nb_epoch,\n",
        "                    batch_size=batch_size,\n",
        "                    shuffle=True,\n",
        "                     validation_split=0.3,\n",
        "                    verbose=1)    \n",
        "    return history\n",
        "  \n"
      ],
      "execution_count": 0,
      "outputs": []
    },
    {
      "metadata": {
        "id": "045jF7YEZJKs",
        "colab_type": "code",
        "colab": {
          "base_uri": "https://localhost:8080/",
          "height": 2134
        },
        "outputId": "297ac8e7-f861-48ef-f6d5-6a62b044f977"
      },
      "cell_type": "code",
      "source": [
        "# history = []\n",
        "# for lr_value in lr_values:\n",
        "#   print(lr_value)\n",
        "#   history.append(compile_fit(autoencoder, X_train_No_scaled, X_train_No_scaled, lr_value))\n",
        "  \n",
        "  \n",
        "hist = []\n",
        "training_loss = []\n",
        "val_loss = []\n",
        "\n",
        "for lr_value in lr_values:\n",
        "    print(lr_value)\n",
        "    history = (compile_fit(autoencoder, X_train_No_scaled, X_train_No_scaled, lr_value))\n",
        "  \n",
        "    hist.append(history)\n",
        "  \n",
        "    training_loss.append(history.history['loss'])\n",
        "    val_loss.append(history.history['val_loss'])"
      ],
      "execution_count": 47,
      "outputs": [
        {
          "output_type": "stream",
          "text": [
            "0.001\n",
            "Train on 28110 samples, validate on 12048 samples\n",
            "Epoch 1/20\n",
            "28110/28110 [==============================] - 17s 599us/step - loss: 0.0577 - mean_squared_error: 0.0577 - val_loss: 0.0202 - val_mean_squared_error: 0.0202\n",
            "Epoch 2/20\n",
            "28110/28110 [==============================] - 15s 533us/step - loss: 0.0230 - mean_squared_error: 0.0230 - val_loss: 0.0134 - val_mean_squared_error: 0.0134\n",
            "Epoch 3/20\n",
            "28110/28110 [==============================] - 15s 542us/step - loss: 0.0193 - mean_squared_error: 0.0193 - val_loss: 0.0120 - val_mean_squared_error: 0.0120\n",
            "Epoch 4/20\n",
            "28110/28110 [==============================] - 14s 513us/step - loss: 0.0182 - mean_squared_error: 0.0182 - val_loss: 0.0115 - val_mean_squared_error: 0.0115\n",
            "Epoch 5/20\n",
            "28110/28110 [==============================] - 14s 514us/step - loss: 0.0168 - mean_squared_error: 0.0168 - val_loss: 0.0096 - val_mean_squared_error: 0.0096\n",
            "Epoch 6/20\n",
            "28110/28110 [==============================] - 15s 519us/step - loss: 0.0157 - mean_squared_error: 0.0157 - val_loss: 0.0086 - val_mean_squared_error: 0.0086\n",
            "Epoch 7/20\n",
            "28110/28110 [==============================] - 15s 516us/step - loss: 0.0151 - mean_squared_error: 0.0151 - val_loss: 0.0077 - val_mean_squared_error: 0.0077\n",
            "Epoch 8/20\n",
            "28110/28110 [==============================] - 15s 520us/step - loss: 0.0147 - mean_squared_error: 0.0147 - val_loss: 0.0076 - val_mean_squared_error: 0.0076\n",
            "Epoch 9/20\n",
            "28110/28110 [==============================] - 15s 525us/step - loss: 0.0145 - mean_squared_error: 0.0145 - val_loss: 0.0075 - val_mean_squared_error: 0.0075\n",
            "Epoch 10/20\n",
            "28110/28110 [==============================] - 14s 515us/step - loss: 0.0143 - mean_squared_error: 0.0143 - val_loss: 0.0072 - val_mean_squared_error: 0.0072\n",
            "Epoch 11/20\n",
            "28110/28110 [==============================] - 15s 516us/step - loss: 0.0141 - mean_squared_error: 0.0141 - val_loss: 0.0071 - val_mean_squared_error: 0.0071\n",
            "Epoch 12/20\n",
            "28110/28110 [==============================] - 15s 517us/step - loss: 0.0139 - mean_squared_error: 0.0139 - val_loss: 0.0069 - val_mean_squared_error: 0.0069\n",
            "Epoch 13/20\n",
            "28110/28110 [==============================] - 15s 525us/step - loss: 0.0138 - mean_squared_error: 0.0138 - val_loss: 0.0069 - val_mean_squared_error: 0.0069\n",
            "Epoch 14/20\n",
            "28110/28110 [==============================] - 13s 475us/step - loss: 0.0136 - mean_squared_error: 0.0136 - val_loss: 0.0067 - val_mean_squared_error: 0.0067\n",
            "Epoch 15/20\n",
            "28110/28110 [==============================] - 13s 471us/step - loss: 0.0137 - mean_squared_error: 0.0137 - val_loss: 0.0066 - val_mean_squared_error: 0.0066\n",
            "Epoch 16/20\n",
            "28110/28110 [==============================] - 13s 471us/step - loss: 0.0134 - mean_squared_error: 0.0134 - val_loss: 0.0065 - val_mean_squared_error: 0.0065\n",
            "Epoch 17/20\n",
            "28110/28110 [==============================] - 13s 475us/step - loss: 0.0133 - mean_squared_error: 0.0133 - val_loss: 0.0064 - val_mean_squared_error: 0.0064\n",
            "Epoch 18/20\n",
            "28110/28110 [==============================] - 13s 473us/step - loss: 0.0133 - mean_squared_error: 0.0133 - val_loss: 0.0065 - val_mean_squared_error: 0.0065\n",
            "Epoch 19/20\n",
            "28110/28110 [==============================] - 13s 471us/step - loss: 0.0132 - mean_squared_error: 0.0132 - val_loss: 0.0063 - val_mean_squared_error: 0.0063\n",
            "Epoch 20/20\n",
            "28110/28110 [==============================] - 13s 472us/step - loss: 0.0131 - mean_squared_error: 0.0131 - val_loss: 0.0063 - val_mean_squared_error: 0.0063\n",
            "0.003\n",
            "Train on 28110 samples, validate on 12048 samples\n",
            "Epoch 1/20\n",
            "28110/28110 [==============================] - 15s 541us/step - loss: 0.0133 - mean_squared_error: 0.0133 - val_loss: 0.0064 - val_mean_squared_error: 0.0064\n",
            "Epoch 2/20\n",
            "28110/28110 [==============================] - 13s 467us/step - loss: 0.0133 - mean_squared_error: 0.0133 - val_loss: 0.0064 - val_mean_squared_error: 0.0064\n",
            "Epoch 3/20\n",
            "28110/28110 [==============================] - 13s 465us/step - loss: 0.0131 - mean_squared_error: 0.0131 - val_loss: 0.0064 - val_mean_squared_error: 0.0064\n",
            "Epoch 4/20\n",
            "28110/28110 [==============================] - 14s 483us/step - loss: 0.0128 - mean_squared_error: 0.0128 - val_loss: 0.0061 - val_mean_squared_error: 0.0061\n",
            "Epoch 5/20\n",
            "28110/28110 [==============================] - 14s 490us/step - loss: 0.0128 - mean_squared_error: 0.0128 - val_loss: 0.0059 - val_mean_squared_error: 0.0059\n",
            "Epoch 6/20\n",
            "28110/28110 [==============================] - 13s 478us/step - loss: 0.0127 - mean_squared_error: 0.0127 - val_loss: 0.0059 - val_mean_squared_error: 0.0059\n",
            "Epoch 7/20\n",
            "28110/28110 [==============================] - 13s 479us/step - loss: 0.0128 - mean_squared_error: 0.0128 - val_loss: 0.0058 - val_mean_squared_error: 0.0058\n",
            "Epoch 8/20\n",
            "28110/28110 [==============================] - 14s 483us/step - loss: 0.0127 - mean_squared_error: 0.0127 - val_loss: 0.0058 - val_mean_squared_error: 0.0058\n",
            "Epoch 9/20\n",
            "28110/28110 [==============================] - 14s 487us/step - loss: 0.0125 - mean_squared_error: 0.0125 - val_loss: 0.0059 - val_mean_squared_error: 0.0059\n",
            "Epoch 10/20\n",
            "28110/28110 [==============================] - 14s 481us/step - loss: 0.0127 - mean_squared_error: 0.0127 - val_loss: 0.0055 - val_mean_squared_error: 0.0055\n",
            "Epoch 11/20\n",
            "28110/28110 [==============================] - 14s 494us/step - loss: 0.0125 - mean_squared_error: 0.0125 - val_loss: 0.0058 - val_mean_squared_error: 0.0058\n",
            "Epoch 12/20\n",
            "28110/28110 [==============================] - 13s 479us/step - loss: 0.0125 - mean_squared_error: 0.0125 - val_loss: 0.0059 - val_mean_squared_error: 0.0059\n",
            "Epoch 13/20\n",
            "28110/28110 [==============================] - 13s 476us/step - loss: 0.0125 - mean_squared_error: 0.0125 - val_loss: 0.0057 - val_mean_squared_error: 0.0057\n",
            "Epoch 14/20\n",
            "28110/28110 [==============================] - 13s 478us/step - loss: 0.0124 - mean_squared_error: 0.0124 - val_loss: 0.0057 - val_mean_squared_error: 0.0057\n",
            "Epoch 15/20\n",
            "28110/28110 [==============================] - 14s 481us/step - loss: 0.0125 - mean_squared_error: 0.0125 - val_loss: 0.0054 - val_mean_squared_error: 0.0054\n",
            "Epoch 16/20\n",
            "28110/28110 [==============================] - 14s 483us/step - loss: 0.0125 - mean_squared_error: 0.0125 - val_loss: 0.0054 - val_mean_squared_error: 0.0054\n",
            "Epoch 17/20\n",
            "28110/28110 [==============================] - 14s 481us/step - loss: 0.0125 - mean_squared_error: 0.0125 - val_loss: 0.0056 - val_mean_squared_error: 0.0056\n",
            "Epoch 18/20\n",
            "28110/28110 [==============================] - 14s 481us/step - loss: 0.0123 - mean_squared_error: 0.0123 - val_loss: 0.0054 - val_mean_squared_error: 0.0054\n",
            "Epoch 19/20\n",
            "28110/28110 [==============================] - 14s 481us/step - loss: 0.0123 - mean_squared_error: 0.0123 - val_loss: 0.0051 - val_mean_squared_error: 0.0051\n",
            "Epoch 20/20\n",
            "28110/28110 [==============================] - 14s 485us/step - loss: 0.0123 - mean_squared_error: 0.0123 - val_loss: 0.0053 - val_mean_squared_error: 0.0053\n",
            "0.006\n",
            "Train on 28110 samples, validate on 12048 samples\n",
            "Epoch 1/20\n",
            "28110/28110 [==============================] - 15s 551us/step - loss: 0.0129 - mean_squared_error: 0.0129 - val_loss: 0.0056 - val_mean_squared_error: 0.0056\n",
            "Epoch 2/20\n",
            "28110/28110 [==============================] - 14s 481us/step - loss: 0.0126 - mean_squared_error: 0.0126 - val_loss: 0.0055 - val_mean_squared_error: 0.0055\n",
            "Epoch 3/20\n",
            "28110/28110 [==============================] - 14s 487us/step - loss: 0.0127 - mean_squared_error: 0.0127 - val_loss: 0.0058 - val_mean_squared_error: 0.0058\n",
            "Epoch 4/20\n",
            "28110/28110 [==============================] - 14s 487us/step - loss: 0.0125 - mean_squared_error: 0.0125 - val_loss: 0.0057 - val_mean_squared_error: 0.0057\n",
            "Epoch 5/20\n",
            "28110/28110 [==============================] - 14s 487us/step - loss: 0.0124 - mean_squared_error: 0.0124 - val_loss: 0.0055 - val_mean_squared_error: 0.0055\n",
            "Epoch 6/20\n",
            "28110/28110 [==============================] - 14s 490us/step - loss: 0.0124 - mean_squared_error: 0.0124 - val_loss: 0.0056 - val_mean_squared_error: 0.0056\n",
            "Epoch 7/20\n",
            "28110/28110 [==============================] - 15s 516us/step - loss: 0.0125 - mean_squared_error: 0.0125 - val_loss: 0.0052 - val_mean_squared_error: 0.0052\n",
            "Epoch 8/20\n",
            "28110/28110 [==============================] - 14s 500us/step - loss: 0.0123 - mean_squared_error: 0.0123 - val_loss: 0.0056 - val_mean_squared_error: 0.0056\n",
            "Epoch 9/20\n",
            "28110/28110 [==============================] - 14s 488us/step - loss: 0.0124 - mean_squared_error: 0.0124 - val_loss: 0.0056 - val_mean_squared_error: 0.0056\n",
            "Epoch 10/20\n",
            "28110/28110 [==============================] - 14s 489us/step - loss: 0.0126 - mean_squared_error: 0.0126 - val_loss: 0.0058 - val_mean_squared_error: 0.0058\n",
            "Epoch 11/20\n",
            "28110/28110 [==============================] - 14s 491us/step - loss: 0.0123 - mean_squared_error: 0.0123 - val_loss: 0.0052 - val_mean_squared_error: 0.0052\n",
            "Epoch 12/20\n",
            "28110/28110 [==============================] - 14s 488us/step - loss: 0.0123 - mean_squared_error: 0.0123 - val_loss: 0.0056 - val_mean_squared_error: 0.0056\n",
            "Epoch 13/20\n",
            "28110/28110 [==============================] - 14s 485us/step - loss: 0.0126 - mean_squared_error: 0.0126 - val_loss: 0.0056 - val_mean_squared_error: 0.0056\n",
            "Epoch 14/20\n",
            "28110/28110 [==============================] - 14s 484us/step - loss: 0.0126 - mean_squared_error: 0.0126 - val_loss: 0.0058 - val_mean_squared_error: 0.0058\n",
            "Epoch 15/20\n",
            "28110/28110 [==============================] - 14s 484us/step - loss: 0.0125 - mean_squared_error: 0.0125 - val_loss: 0.0051 - val_mean_squared_error: 0.0051\n",
            "Epoch 16/20\n",
            "28110/28110 [==============================] - 14s 481us/step - loss: 0.0126 - mean_squared_error: 0.0126 - val_loss: 0.0056 - val_mean_squared_error: 0.0056\n",
            "Epoch 17/20\n",
            "28110/28110 [==============================] - 13s 477us/step - loss: 0.0123 - mean_squared_error: 0.0123 - val_loss: 0.0055 - val_mean_squared_error: 0.0055\n",
            "Epoch 18/20\n",
            "28110/28110 [==============================] - 14s 492us/step - loss: 0.0125 - mean_squared_error: 0.0125 - val_loss: 0.0055 - val_mean_squared_error: 0.0055\n",
            "Epoch 19/20\n",
            "28110/28110 [==============================] - 14s 500us/step - loss: 0.0126 - mean_squared_error: 0.0126 - val_loss: 0.0054 - val_mean_squared_error: 0.0054\n",
            "Epoch 20/20\n",
            "28110/28110 [==============================] - 14s 489us/step - loss: 0.0124 - mean_squared_error: 0.0124 - val_loss: 0.0053 - val_mean_squared_error: 0.0053\n"
          ],
          "name": "stdout"
        }
      ]
    },
    {
      "metadata": {
        "id": "pXbjl2PVOiwh",
        "colab_type": "code",
        "colab": {
          "base_uri": "https://localhost:8080/",
          "height": 363
        },
        "outputId": "b7128531-98ff-4c7c-9091-8c8f498ede3b"
      },
      "cell_type": "code",
      "source": [
        "# Create count of the number of epochs\n",
        "epoch_count = range(1, len(training_loss) + 1)\n",
        "\n",
        "# Visualize loss history\n",
        "plt.plot(epoch_count, training_loss, 'r--')\n",
        "plt.plot(epoch_count, val_loss, 'b-')\n",
        "plt.legend(['Training Loss', 'Validation Loss'])\n",
        "plt.xlabel('Epoch')\n",
        "plt.ylabel('Loss')\n",
        "plt.show();"
      ],
      "execution_count": 48,
      "outputs": [
        {
          "output_type": "display_data",
          "data": {
            "image/png": "[encoded data removed]",
            "text/plain": [
              "<matplotlib.figure.Figure at 0x7f98202f9b38>"
            ]
          },
          "metadata": {
            "tags": []
          }
        }
      ]
    },
    {
      "metadata": {
        "id": "MHs1ZKqwS7JR",
        "colab_type": "text"
      },
      "cell_type": "markdown",
      "source": [
        "From above experiments, following hyperparameters are giving good results\n",
        "1 - 'relu' activation function\n",
        "2 - Autoencoder with two hidden layers in each of encoder and decoder\n",
        "3 - Dropout of 0.2\n",
        "4 - kernel_constraint=maxnorm(3)\n",
        "5 - Batch Normalization in Encoder part\n",
        "6 - Learning rate of = 0.003\n",
        "7 - Batch Size = 32"
      ]
    },
    {
      "metadata": {
        "id": "zNDw0wViOiq6",
        "colab_type": "code",
        "colab": {
          "base_uri": "https://localhost:8080/",
          "height": 2537
        },
        "outputId": "cac1a835-1d22-442b-a829-2ad990e2329c"
      },
      "cell_type": "code",
      "source": [
        "autoencoder = Sequential()\n",
        "\n",
        "autoencoder.add(Dropout(0.2, input_shape=(input_dim,)))\n",
        "autoencoder.add(Dense(encoding_dim, activation='relu', kernel_constraint=maxnorm(3)))\n",
        "autoencoder.add(BatchNormalization())\n",
        "autoencoder.add(Dropout(0.2))\n",
        "autoencoder.add(Dense(int(encoding_dim / 2), activation='relu', kernel_constraint=maxnorm(3)))\n",
        "autoencoder.add(BatchNormalization())\n",
        "# autoencoder.add(Dropout(0.2))\n",
        "autoencoder.add(Dense(encoding_dim, activation='relu', kernel_constraint=maxnorm(3)))\n",
        "# autoencoder.add(BatchNormalization())\n",
        "autoencoder.add(Dense(input_dim, activation='linear'))\n",
        "\n",
        "\n",
        "\n",
        "nb_epoch = 50\n",
        "batch_size = 32\n",
        "\n",
        "def compile_fit(model, X, Y):\n",
        "    \n",
        "    adam = optimizers.Adam(lr=0.003)\n",
        "    \n",
        "    autoencoder.compile(optimizer=adam, \n",
        "                    loss='mean_squared_error', metrics=['mse'])\n",
        "    \n",
        "    history = autoencoder.fit(X, Y,\n",
        "                    epochs=1,\n",
        "                    batch_size=batch_size,\n",
        "                    shuffle=True,\n",
        "                     validation_split=0.3,\n",
        "                    verbose=1)    \n",
        "    return history\n",
        "  \n",
        "hist = []\n",
        "training_loss = []\n",
        "val_loss = []\n",
        "\n",
        "for _ in range(nb_epoch):\n",
        "    history = (compile_fit(autoencoder, X_train_No_scaled, X_train_No_scaled))\n",
        "  \n",
        "    hist.append(history)\n",
        "  \n",
        "    training_loss.append(history.history['loss'])\n",
        "    val_loss.append(history.history['val_loss'])\n",
        "  "
      ],
      "execution_count": 51,
      "outputs": [
        {
          "output_type": "stream",
          "text": [
            "Train on 28110 samples, validate on 12048 samples\n",
            "Epoch 1/1\n",
            "28110/28110 [==============================] - 17s 589us/step - loss: 0.0382 - mean_squared_error: 0.0382 - val_loss: 0.0124 - val_mean_squared_error: 0.0124\n",
            "Train on 28110 samples, validate on 12048 samples\n",
            "Epoch 1/1\n",
            "28110/28110 [==============================] - 17s 594us/step - loss: 0.0168 - mean_squared_error: 0.0168 - val_loss: 0.0084 - val_mean_squared_error: 0.0084\n",
            "Train on 28110 samples, validate on 12048 samples\n",
            "Epoch 1/1\n",
            "28110/28110 [==============================] - 17s 596us/step - loss: 0.0149 - mean_squared_error: 0.0149 - val_loss: 0.0070 - val_mean_squared_error: 0.0070\n",
            "Train on 28110 samples, validate on 12048 samples\n",
            "Epoch 1/1\n",
            "28110/28110 [==============================] - 17s 605us/step - loss: 0.0143 - mean_squared_error: 0.0143 - val_loss: 0.0068 - val_mean_squared_error: 0.0068\n",
            "Train on 28110 samples, validate on 12048 samples\n",
            "Epoch 1/1\n",
            "28110/28110 [==============================] - 17s 610us/step - loss: 0.0139 - mean_squared_error: 0.0139 - val_loss: 0.0066 - val_mean_squared_error: 0.0066\n",
            "Train on 28110 samples, validate on 12048 samples\n",
            "Epoch 1/1\n",
            "28110/28110 [==============================] - 17s 615us/step - loss: 0.0134 - mean_squared_error: 0.0134 - val_loss: 0.0064 - val_mean_squared_error: 0.0064\n",
            "Train on 28110 samples, validate on 12048 samples\n",
            "Epoch 1/1\n",
            "28110/28110 [==============================] - 18s 655us/step - loss: 0.0134 - mean_squared_error: 0.0134 - val_loss: 0.0062 - val_mean_squared_error: 0.0062\n",
            "Train on 28110 samples, validate on 12048 samples\n",
            "Epoch 1/1\n",
            "28110/28110 [==============================] - 18s 632us/step - loss: 0.0133 - mean_squared_error: 0.0133 - val_loss: 0.0062 - val_mean_squared_error: 0.0062\n",
            "Train on 28110 samples, validate on 12048 samples\n",
            "Epoch 1/1\n",
            "28110/28110 [==============================] - 18s 655us/step - loss: 0.0134 - mean_squared_error: 0.0134 - val_loss: 0.0063 - val_mean_squared_error: 0.0063\n",
            "Train on 28110 samples, validate on 12048 samples\n",
            "Epoch 1/1\n",
            "28110/28110 [==============================] - 18s 642us/step - loss: 0.0132 - mean_squared_error: 0.0132 - val_loss: 0.0063 - val_mean_squared_error: 0.0063\n",
            "Train on 28110 samples, validate on 12048 samples\n",
            "Epoch 1/1\n",
            "28110/28110 [==============================] - 18s 639us/step - loss: 0.0130 - mean_squared_error: 0.0130 - val_loss: 0.0059 - val_mean_squared_error: 0.0059\n",
            "Train on 28110 samples, validate on 12048 samples\n",
            "Epoch 1/1\n",
            "28110/28110 [==============================] - 18s 649us/step - loss: 0.0128 - mean_squared_error: 0.0128 - val_loss: 0.0061 - val_mean_squared_error: 0.0061\n",
            "Train on 28110 samples, validate on 12048 samples\n",
            "Epoch 1/1\n",
            "28110/28110 [==============================] - 18s 656us/step - loss: 0.0129 - mean_squared_error: 0.0129 - val_loss: 0.0059 - val_mean_squared_error: 0.0059\n",
            "Train on 28110 samples, validate on 12048 samples\n",
            "Epoch 1/1\n",
            "28110/28110 [==============================] - 19s 663us/step - loss: 0.0129 - mean_squared_error: 0.0129 - val_loss: 0.0060 - val_mean_squared_error: 0.0060\n",
            "Train on 28110 samples, validate on 12048 samples\n",
            "Epoch 1/1\n",
            "28110/28110 [==============================] - 19s 666us/step - loss: 0.0129 - mean_squared_error: 0.0129 - val_loss: 0.0058 - val_mean_squared_error: 0.0058\n",
            "Train on 28110 samples, validate on 12048 samples\n",
            "Epoch 1/1\n",
            "28110/28110 [==============================] - 19s 667us/step - loss: 0.0129 - mean_squared_error: 0.0129 - val_loss: 0.0057 - val_mean_squared_error: 0.0057\n",
            "Train on 28110 samples, validate on 12048 samples\n",
            "Epoch 1/1\n",
            "28110/28110 [==============================] - 19s 674us/step - loss: 0.0128 - mean_squared_error: 0.0128 - val_loss: 0.0053 - val_mean_squared_error: 0.0053\n",
            "Train on 28110 samples, validate on 12048 samples\n",
            "Epoch 1/1\n",
            "28110/28110 [==============================] - 19s 692us/step - loss: 0.0127 - mean_squared_error: 0.0127 - val_loss: 0.0054 - val_mean_squared_error: 0.0054\n",
            "Train on 28110 samples, validate on 12048 samples\n",
            "Epoch 1/1\n",
            "28110/28110 [==============================] - 20s 703us/step - loss: 0.0124 - mean_squared_error: 0.0124 - val_loss: 0.0060 - val_mean_squared_error: 0.0060\n",
            "Train on 28110 samples, validate on 12048 samples\n",
            "Epoch 1/1\n",
            "28110/28110 [==============================] - 20s 711us/step - loss: 0.0123 - mean_squared_error: 0.0123 - val_loss: 0.0055 - val_mean_squared_error: 0.0055\n",
            "Train on 28110 samples, validate on 12048 samples\n",
            "Epoch 1/1\n",
            "28110/28110 [==============================] - 20s 714us/step - loss: 0.0125 - mean_squared_error: 0.0125 - val_loss: 0.0056 - val_mean_squared_error: 0.0056\n",
            "Train on 28110 samples, validate on 12048 samples\n",
            "Epoch 1/1\n",
            "28110/28110 [==============================] - 21s 746us/step - loss: 0.0122 - mean_squared_error: 0.0122 - val_loss: 0.0068 - val_mean_squared_error: 0.0068\n",
            "Train on 28110 samples, validate on 12048 samples\n",
            "Epoch 1/1\n",
            "28110/28110 [==============================] - 21s 758us/step - loss: 0.0123 - mean_squared_error: 0.0123 - val_loss: 0.0052 - val_mean_squared_error: 0.0052\n",
            "Train on 28110 samples, validate on 12048 samples\n",
            "Epoch 1/1\n",
            "28110/28110 [==============================] - 21s 730us/step - loss: 0.0122 - mean_squared_error: 0.0122 - val_loss: 0.0057 - val_mean_squared_error: 0.0057\n",
            "Train on 28110 samples, validate on 12048 samples\n",
            "Epoch 1/1\n",
            "28110/28110 [==============================] - 21s 741us/step - loss: 0.0122 - mean_squared_error: 0.0122 - val_loss: 0.0054 - val_mean_squared_error: 0.0054\n",
            "Train on 28110 samples, validate on 12048 samples\n",
            "Epoch 1/1\n",
            "28110/28110 [==============================] - 20s 728us/step - loss: 0.0123 - mean_squared_error: 0.0123 - val_loss: 0.0055 - val_mean_squared_error: 0.0055\n",
            "Train on 28110 samples, validate on 12048 samples\n",
            "Epoch 1/1\n",
            "28110/28110 [==============================] - 20s 727us/step - loss: 0.0123 - mean_squared_error: 0.0123 - val_loss: 0.0055 - val_mean_squared_error: 0.0055\n",
            "Train on 28110 samples, validate on 12048 samples\n",
            "Epoch 1/1\n",
            "28110/28110 [==============================] - 21s 746us/step - loss: 0.0121 - mean_squared_error: 0.0121 - val_loss: 0.0055 - val_mean_squared_error: 0.0055\n",
            "Train on 28110 samples, validate on 12048 samples\n",
            "Epoch 1/1\n",
            "28110/28110 [==============================] - 21s 740us/step - loss: 0.0120 - mean_squared_error: 0.0120 - val_loss: 0.0054 - val_mean_squared_error: 0.0054\n",
            "Train on 28110 samples, validate on 12048 samples\n",
            "Epoch 1/1\n",
            "28110/28110 [==============================] - 22s 779us/step - loss: 0.0121 - mean_squared_error: 0.0121 - val_loss: 0.0058 - val_mean_squared_error: 0.0058\n",
            "Train on 28110 samples, validate on 12048 samples\n",
            "Epoch 1/1\n",
            "28110/28110 [==============================] - 23s 806us/step - loss: 0.0122 - mean_squared_error: 0.0122 - val_loss: 0.0057 - val_mean_squared_error: 0.0057\n",
            "Train on 28110 samples, validate on 12048 samples\n",
            "Epoch 1/1\n",
            "28110/28110 [==============================] - 25s 887us/step - loss: 0.0120 - mean_squared_error: 0.0120 - val_loss: 0.0054 - val_mean_squared_error: 0.0054\n",
            "Train on 28110 samples, validate on 12048 samples\n",
            "Epoch 1/1\n",
            "28110/28110 [==============================] - 22s 770us/step - loss: 0.0120 - mean_squared_error: 0.0120 - val_loss: 0.0052 - val_mean_squared_error: 0.0052\n",
            "Train on 28110 samples, validate on 12048 samples\n",
            "Epoch 1/1\n",
            "28110/28110 [==============================] - 22s 781us/step - loss: 0.0122 - mean_squared_error: 0.0122 - val_loss: 0.0050 - val_mean_squared_error: 0.0050\n",
            "Train on 28110 samples, validate on 12048 samples\n",
            "Epoch 1/1\n",
            "28110/28110 [==============================] - 22s 779us/step - loss: 0.0121 - mean_squared_error: 0.0121 - val_loss: 0.0060 - val_mean_squared_error: 0.0060\n",
            "Train on 28110 samples, validate on 12048 samples\n",
            "Epoch 1/1\n",
            "28110/28110 [==============================] - 23s 833us/step - loss: 0.0122 - mean_squared_error: 0.0122 - val_loss: 0.0058 - val_mean_squared_error: 0.0058\n",
            "Train on 28110 samples, validate on 12048 samples\n",
            "Epoch 1/1\n",
            "28110/28110 [==============================] - 23s 816us/step - loss: 0.0120 - mean_squared_error: 0.0120 - val_loss: 0.0061 - val_mean_squared_error: 0.0061\n",
            "Train on 28110 samples, validate on 12048 samples\n",
            "Epoch 1/1\n",
            "28110/28110 [==============================] - 23s 832us/step - loss: 0.0119 - mean_squared_error: 0.0119 - val_loss: 0.0059 - val_mean_squared_error: 0.0059\n",
            "Train on 28110 samples, validate on 12048 samples\n",
            "Epoch 1/1\n",
            "28110/28110 [==============================] - 24s 837us/step - loss: 0.0120 - mean_squared_error: 0.0120 - val_loss: 0.0057 - val_mean_squared_error: 0.0057\n",
            "Train on 28110 samples, validate on 12048 samples\n",
            "Epoch 1/1\n",
            "28110/28110 [==============================] - 24s 843us/step - loss: 0.0120 - mean_squared_error: 0.0120 - val_loss: 0.0058 - val_mean_squared_error: 0.0058\n",
            "Train on 28110 samples, validate on 12048 samples\n",
            "Epoch 1/1\n",
            "28110/28110 [==============================] - 24s 837us/step - loss: 0.0119 - mean_squared_error: 0.0119 - val_loss: 0.0057 - val_mean_squared_error: 0.0057\n",
            "Train on 28110 samples, validate on 12048 samples\n",
            "Epoch 1/1\n",
            "28110/28110 [==============================] - 25s 892us/step - loss: 0.0119 - mean_squared_error: 0.0119 - val_loss: 0.0053 - val_mean_squared_error: 0.0053\n",
            "Train on 28110 samples, validate on 12048 samples\n",
            "Epoch 1/1\n",
            "28110/28110 [==============================] - 25s 875us/step - loss: 0.0119 - mean_squared_error: 0.0119 - val_loss: 0.0059 - val_mean_squared_error: 0.0059\n",
            "Train on 28110 samples, validate on 12048 samples\n",
            "Epoch 1/1\n",
            "28110/28110 [==============================] - 25s 879us/step - loss: 0.0121 - mean_squared_error: 0.0121 - val_loss: 0.0053 - val_mean_squared_error: 0.0053\n",
            "Train on 28110 samples, validate on 12048 samples\n",
            "Epoch 1/1\n",
            "28110/28110 [==============================] - 31s 1ms/step - loss: 0.0120 - mean_squared_error: 0.0120 - val_loss: 0.0060 - val_mean_squared_error: 0.0060\n",
            "Train on 28110 samples, validate on 12048 samples\n",
            "Epoch 1/1\n",
            "28110/28110 [==============================] - 49s 2ms/step - loss: 0.0120 - mean_squared_error: 0.0120 - val_loss: 0.0056 - val_mean_squared_error: 0.0056\n",
            "Train on 28110 samples, validate on 12048 samples\n",
            "Epoch 1/1\n",
            "28110/28110 [==============================] - 49s 2ms/step - loss: 0.0120 - mean_squared_error: 0.0120 - val_loss: 0.0056 - val_mean_squared_error: 0.0056\n",
            "Train on 28110 samples, validate on 12048 samples\n",
            "Epoch 1/1\n",
            "28110/28110 [==============================] - 49s 2ms/step - loss: 0.0119 - mean_squared_error: 0.0119 - val_loss: 0.0057 - val_mean_squared_error: 0.0057\n",
            "Train on 28110 samples, validate on 12048 samples\n",
            "Epoch 1/1\n",
            "28110/28110 [==============================] - 51s 2ms/step - loss: 0.0121 - mean_squared_error: 0.0121 - val_loss: 0.0059 - val_mean_squared_error: 0.0059\n",
            "Train on 28110 samples, validate on 12048 samples\n",
            "Epoch 1/1\n",
            "28110/28110 [==============================] - 52s 2ms/step - loss: 0.0120 - mean_squared_error: 0.0120 - val_loss: 0.0056 - val_mean_squared_error: 0.0056\n"
          ],
          "name": "stdout"
        }
      ]
    },
    {
      "metadata": {
        "id": "8eswu6N5T44A",
        "colab_type": "code",
        "colab": {
          "base_uri": "https://localhost:8080/",
          "height": 361
        },
        "outputId": "328d8302-bd7f-4bad-bec1-6c69c8e85533"
      },
      "cell_type": "code",
      "source": [
        "# Create count of the number of epochs\n",
        "epoch_count = range(1, len(training_loss) + 1)\n",
        "\n",
        "# Visualize loss history\n",
        "plt.plot(epoch_count, training_loss, 'r--')\n",
        "plt.plot(epoch_count, val_loss, 'b-')\n",
        "plt.legend(['Training Loss', 'Validation Loss'])\n",
        "plt.xlabel('Epoch')\n",
        "plt.ylabel('Loss')\n",
        "plt.show();"
      ],
      "execution_count": 52,
      "outputs": [
        {
          "output_type": "display_data",
          "data": {
            "image/png": "[encoded data removed]",
            "text/plain": [
              "<matplotlib.figure.Figure at 0x7f980e500d30>"
            ]
          },
          "metadata": {
            "tags": []
          }
        }
      ]
    }
  ]
}